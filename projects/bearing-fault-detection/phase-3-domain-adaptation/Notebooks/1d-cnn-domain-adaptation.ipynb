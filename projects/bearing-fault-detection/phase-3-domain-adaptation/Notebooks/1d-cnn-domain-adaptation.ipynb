{
 "cells": [
  {
   "cell_type": "markdown",
   "id": "476364f8",
   "metadata": {
    "papermill": {
     "duration": 0.002948,
     "end_time": "2025-10-28T17:13:37.359094",
     "exception": false,
     "start_time": "2025-10-28T17:13:37.356146",
     "status": "completed"
    },
    "tags": []
   },
   "source": [
    "# Importing the model and the data"
   ]
  },
  {
   "cell_type": "code",
   "execution_count": 1,
   "id": "f1275cd2",
   "metadata": {
    "execution": {
     "iopub.execute_input": "2025-10-28T17:13:37.364953Z",
     "iopub.status.busy": "2025-10-28T17:13:37.364614Z",
     "iopub.status.idle": "2025-10-28T17:14:00.227509Z",
     "shell.execute_reply": "2025-10-28T17:14:00.226388Z"
    },
    "papermill": {
     "duration": 22.867641,
     "end_time": "2025-10-28T17:14:00.229179",
     "exception": false,
     "start_time": "2025-10-28T17:13:37.361538",
     "status": "completed"
    },
    "tags": []
   },
   "outputs": [
    {
     "name": "stderr",
     "output_type": "stream",
     "text": [
      "2025-10-28 17:13:41.702379: E external/local_xla/xla/stream_executor/cuda/cuda_fft.cc:477] Unable to register cuFFT factory: Attempting to register factory for plugin cuFFT when one has already been registered\n",
      "WARNING: All log messages before absl::InitializeLog() is called are written to STDERR\n",
      "E0000 00:00:1761671621.986524      13 cuda_dnn.cc:8310] Unable to register cuDNN factory: Attempting to register factory for plugin cuDNN when one has already been registered\n",
      "E0000 00:00:1761671622.069773      13 cuda_blas.cc:1418] Unable to register cuBLAS factory: Attempting to register factory for plugin cuBLAS when one has already been registered\n"
     ]
    }
   ],
   "source": [
    "import numpy as np\n",
    "import pandas as pd\n",
    "import tensorflow as tf\n",
    "from tensorflow import keras\n",
    "from sklearn.model_selection import train_test_split\n",
    "from sklearn.metrics import classification_report, confusion_matrix\n",
    "import matplotlib.pyplot as plt\n",
    "import seaborn as sns"
   ]
  },
  {
   "cell_type": "code",
   "execution_count": 2,
   "id": "90401466",
   "metadata": {
    "execution": {
     "iopub.execute_input": "2025-10-28T17:14:00.235044Z",
     "iopub.status.busy": "2025-10-28T17:14:00.234291Z",
     "iopub.status.idle": "2025-10-28T17:14:00.983912Z",
     "shell.execute_reply": "2025-10-28T17:14:00.983304Z"
    },
    "papermill": {
     "duration": 0.753333,
     "end_time": "2025-10-28T17:14:00.984921",
     "exception": false,
     "start_time": "2025-10-28T17:14:00.231588",
     "status": "completed"
    },
    "tags": []
   },
   "outputs": [
    {
     "name": "stderr",
     "output_type": "stream",
     "text": [
      "2025-10-28 17:14:00.355720: E external/local_xla/xla/stream_executor/cuda/cuda_driver.cc:152] failed call to cuInit: INTERNAL: CUDA error: Failed call to cuInit: UNKNOWN ERROR (303)\n"
     ]
    },
    {
     "name": "stdout",
     "output_type": "stream",
     "text": [
      "Base model loaded successfully!\n"
     ]
    },
    {
     "data": {
      "text/html": [
       "<pre style=\"white-space:pre;overflow-x:auto;line-height:normal;font-family:Menlo,'DejaVu Sans Mono',consolas,'Courier New',monospace\"><span style=\"font-weight: bold\">Model: \"sequential\"</span>\n",
       "</pre>\n"
      ],
      "text/plain": [
       "\u001b[1mModel: \"sequential\"\u001b[0m\n"
      ]
     },
     "metadata": {},
     "output_type": "display_data"
    },
    {
     "data": {
      "text/html": [
       "<pre style=\"white-space:pre;overflow-x:auto;line-height:normal;font-family:Menlo,'DejaVu Sans Mono',consolas,'Courier New',monospace\">┏━━━━━━━━━━━━━━━━━━━━━━━━━━━━━━━━━┳━━━━━━━━━━━━━━━━━━━━━━━━┳━━━━━━━━━━━━━━━┓\n",
       "┃<span style=\"font-weight: bold\"> Layer (type)                    </span>┃<span style=\"font-weight: bold\"> Output Shape           </span>┃<span style=\"font-weight: bold\">       Param # </span>┃\n",
       "┡━━━━━━━━━━━━━━━━━━━━━━━━━━━━━━━━━╇━━━━━━━━━━━━━━━━━━━━━━━━╇━━━━━━━━━━━━━━━┩\n",
       "│ conv1d (<span style=\"color: #0087ff; text-decoration-color: #0087ff\">Conv1D</span>)                 │ (<span style=\"color: #00d7ff; text-decoration-color: #00d7ff\">None</span>, <span style=\"color: #00af00; text-decoration-color: #00af00\">2034</span>, <span style=\"color: #00af00; text-decoration-color: #00af00\">64</span>)       │         <span style=\"color: #00af00; text-decoration-color: #00af00\">1,024</span> │\n",
       "├─────────────────────────────────┼────────────────────────┼───────────────┤\n",
       "│ max_pooling1d (<span style=\"color: #0087ff; text-decoration-color: #0087ff\">MaxPooling1D</span>)    │ (<span style=\"color: #00d7ff; text-decoration-color: #00d7ff\">None</span>, <span style=\"color: #00af00; text-decoration-color: #00af00\">1017</span>, <span style=\"color: #00af00; text-decoration-color: #00af00\">64</span>)       │             <span style=\"color: #00af00; text-decoration-color: #00af00\">0</span> │\n",
       "├─────────────────────────────────┼────────────────────────┼───────────────┤\n",
       "│ dropout (<span style=\"color: #0087ff; text-decoration-color: #0087ff\">Dropout</span>)               │ (<span style=\"color: #00d7ff; text-decoration-color: #00d7ff\">None</span>, <span style=\"color: #00af00; text-decoration-color: #00af00\">1017</span>, <span style=\"color: #00af00; text-decoration-color: #00af00\">64</span>)       │             <span style=\"color: #00af00; text-decoration-color: #00af00\">0</span> │\n",
       "├─────────────────────────────────┼────────────────────────┼───────────────┤\n",
       "│ conv1d_1 (<span style=\"color: #0087ff; text-decoration-color: #0087ff\">Conv1D</span>)               │ (<span style=\"color: #00d7ff; text-decoration-color: #00d7ff\">None</span>, <span style=\"color: #00af00; text-decoration-color: #00af00\">1008</span>, <span style=\"color: #00af00; text-decoration-color: #00af00\">128</span>)      │        <span style=\"color: #00af00; text-decoration-color: #00af00\">82,048</span> │\n",
       "├─────────────────────────────────┼────────────────────────┼───────────────┤\n",
       "│ max_pooling1d_1 (<span style=\"color: #0087ff; text-decoration-color: #0087ff\">MaxPooling1D</span>)  │ (<span style=\"color: #00d7ff; text-decoration-color: #00d7ff\">None</span>, <span style=\"color: #00af00; text-decoration-color: #00af00\">504</span>, <span style=\"color: #00af00; text-decoration-color: #00af00\">128</span>)       │             <span style=\"color: #00af00; text-decoration-color: #00af00\">0</span> │\n",
       "├─────────────────────────────────┼────────────────────────┼───────────────┤\n",
       "│ dropout_1 (<span style=\"color: #0087ff; text-decoration-color: #0087ff\">Dropout</span>)             │ (<span style=\"color: #00d7ff; text-decoration-color: #00d7ff\">None</span>, <span style=\"color: #00af00; text-decoration-color: #00af00\">504</span>, <span style=\"color: #00af00; text-decoration-color: #00af00\">128</span>)       │             <span style=\"color: #00af00; text-decoration-color: #00af00\">0</span> │\n",
       "├─────────────────────────────────┼────────────────────────┼───────────────┤\n",
       "│ conv1d_2 (<span style=\"color: #0087ff; text-decoration-color: #0087ff\">Conv1D</span>)               │ (<span style=\"color: #00d7ff; text-decoration-color: #00d7ff\">None</span>, <span style=\"color: #00af00; text-decoration-color: #00af00\">500</span>, <span style=\"color: #00af00; text-decoration-color: #00af00\">128</span>)       │        <span style=\"color: #00af00; text-decoration-color: #00af00\">82,048</span> │\n",
       "├─────────────────────────────────┼────────────────────────┼───────────────┤\n",
       "│ max_pooling1d_2 (<span style=\"color: #0087ff; text-decoration-color: #0087ff\">MaxPooling1D</span>)  │ (<span style=\"color: #00d7ff; text-decoration-color: #00d7ff\">None</span>, <span style=\"color: #00af00; text-decoration-color: #00af00\">250</span>, <span style=\"color: #00af00; text-decoration-color: #00af00\">128</span>)       │             <span style=\"color: #00af00; text-decoration-color: #00af00\">0</span> │\n",
       "├─────────────────────────────────┼────────────────────────┼───────────────┤\n",
       "│ dropout_2 (<span style=\"color: #0087ff; text-decoration-color: #0087ff\">Dropout</span>)             │ (<span style=\"color: #00d7ff; text-decoration-color: #00d7ff\">None</span>, <span style=\"color: #00af00; text-decoration-color: #00af00\">250</span>, <span style=\"color: #00af00; text-decoration-color: #00af00\">128</span>)       │             <span style=\"color: #00af00; text-decoration-color: #00af00\">0</span> │\n",
       "├─────────────────────────────────┼────────────────────────┼───────────────┤\n",
       "│ flatten (<span style=\"color: #0087ff; text-decoration-color: #0087ff\">Flatten</span>)               │ (<span style=\"color: #00d7ff; text-decoration-color: #00d7ff\">None</span>, <span style=\"color: #00af00; text-decoration-color: #00af00\">32000</span>)          │             <span style=\"color: #00af00; text-decoration-color: #00af00\">0</span> │\n",
       "├─────────────────────────────────┼────────────────────────┼───────────────┤\n",
       "│ dense (<span style=\"color: #0087ff; text-decoration-color: #0087ff\">Dense</span>)                   │ (<span style=\"color: #00d7ff; text-decoration-color: #00d7ff\">None</span>, <span style=\"color: #00af00; text-decoration-color: #00af00\">64</span>)             │     <span style=\"color: #00af00; text-decoration-color: #00af00\">2,048,064</span> │\n",
       "├─────────────────────────────────┼────────────────────────┼───────────────┤\n",
       "│ dropout_3 (<span style=\"color: #0087ff; text-decoration-color: #0087ff\">Dropout</span>)             │ (<span style=\"color: #00d7ff; text-decoration-color: #00d7ff\">None</span>, <span style=\"color: #00af00; text-decoration-color: #00af00\">64</span>)             │             <span style=\"color: #00af00; text-decoration-color: #00af00\">0</span> │\n",
       "├─────────────────────────────────┼────────────────────────┼───────────────┤\n",
       "│ dense_1 (<span style=\"color: #0087ff; text-decoration-color: #0087ff\">Dense</span>)                 │ (<span style=\"color: #00d7ff; text-decoration-color: #00d7ff\">None</span>, <span style=\"color: #00af00; text-decoration-color: #00af00\">1</span>)              │            <span style=\"color: #00af00; text-decoration-color: #00af00\">65</span> │\n",
       "└─────────────────────────────────┴────────────────────────┴───────────────┘\n",
       "</pre>\n"
      ],
      "text/plain": [
       "┏━━━━━━━━━━━━━━━━━━━━━━━━━━━━━━━━━┳━━━━━━━━━━━━━━━━━━━━━━━━┳━━━━━━━━━━━━━━━┓\n",
       "┃\u001b[1m \u001b[0m\u001b[1mLayer (type)                   \u001b[0m\u001b[1m \u001b[0m┃\u001b[1m \u001b[0m\u001b[1mOutput Shape          \u001b[0m\u001b[1m \u001b[0m┃\u001b[1m \u001b[0m\u001b[1m      Param #\u001b[0m\u001b[1m \u001b[0m┃\n",
       "┡━━━━━━━━━━━━━━━━━━━━━━━━━━━━━━━━━╇━━━━━━━━━━━━━━━━━━━━━━━━╇━━━━━━━━━━━━━━━┩\n",
       "│ conv1d (\u001b[38;5;33mConv1D\u001b[0m)                 │ (\u001b[38;5;45mNone\u001b[0m, \u001b[38;5;34m2034\u001b[0m, \u001b[38;5;34m64\u001b[0m)       │         \u001b[38;5;34m1,024\u001b[0m │\n",
       "├─────────────────────────────────┼────────────────────────┼───────────────┤\n",
       "│ max_pooling1d (\u001b[38;5;33mMaxPooling1D\u001b[0m)    │ (\u001b[38;5;45mNone\u001b[0m, \u001b[38;5;34m1017\u001b[0m, \u001b[38;5;34m64\u001b[0m)       │             \u001b[38;5;34m0\u001b[0m │\n",
       "├─────────────────────────────────┼────────────────────────┼───────────────┤\n",
       "│ dropout (\u001b[38;5;33mDropout\u001b[0m)               │ (\u001b[38;5;45mNone\u001b[0m, \u001b[38;5;34m1017\u001b[0m, \u001b[38;5;34m64\u001b[0m)       │             \u001b[38;5;34m0\u001b[0m │\n",
       "├─────────────────────────────────┼────────────────────────┼───────────────┤\n",
       "│ conv1d_1 (\u001b[38;5;33mConv1D\u001b[0m)               │ (\u001b[38;5;45mNone\u001b[0m, \u001b[38;5;34m1008\u001b[0m, \u001b[38;5;34m128\u001b[0m)      │        \u001b[38;5;34m82,048\u001b[0m │\n",
       "├─────────────────────────────────┼────────────────────────┼───────────────┤\n",
       "│ max_pooling1d_1 (\u001b[38;5;33mMaxPooling1D\u001b[0m)  │ (\u001b[38;5;45mNone\u001b[0m, \u001b[38;5;34m504\u001b[0m, \u001b[38;5;34m128\u001b[0m)       │             \u001b[38;5;34m0\u001b[0m │\n",
       "├─────────────────────────────────┼────────────────────────┼───────────────┤\n",
       "│ dropout_1 (\u001b[38;5;33mDropout\u001b[0m)             │ (\u001b[38;5;45mNone\u001b[0m, \u001b[38;5;34m504\u001b[0m, \u001b[38;5;34m128\u001b[0m)       │             \u001b[38;5;34m0\u001b[0m │\n",
       "├─────────────────────────────────┼────────────────────────┼───────────────┤\n",
       "│ conv1d_2 (\u001b[38;5;33mConv1D\u001b[0m)               │ (\u001b[38;5;45mNone\u001b[0m, \u001b[38;5;34m500\u001b[0m, \u001b[38;5;34m128\u001b[0m)       │        \u001b[38;5;34m82,048\u001b[0m │\n",
       "├─────────────────────────────────┼────────────────────────┼───────────────┤\n",
       "│ max_pooling1d_2 (\u001b[38;5;33mMaxPooling1D\u001b[0m)  │ (\u001b[38;5;45mNone\u001b[0m, \u001b[38;5;34m250\u001b[0m, \u001b[38;5;34m128\u001b[0m)       │             \u001b[38;5;34m0\u001b[0m │\n",
       "├─────────────────────────────────┼────────────────────────┼───────────────┤\n",
       "│ dropout_2 (\u001b[38;5;33mDropout\u001b[0m)             │ (\u001b[38;5;45mNone\u001b[0m, \u001b[38;5;34m250\u001b[0m, \u001b[38;5;34m128\u001b[0m)       │             \u001b[38;5;34m0\u001b[0m │\n",
       "├─────────────────────────────────┼────────────────────────┼───────────────┤\n",
       "│ flatten (\u001b[38;5;33mFlatten\u001b[0m)               │ (\u001b[38;5;45mNone\u001b[0m, \u001b[38;5;34m32000\u001b[0m)          │             \u001b[38;5;34m0\u001b[0m │\n",
       "├─────────────────────────────────┼────────────────────────┼───────────────┤\n",
       "│ dense (\u001b[38;5;33mDense\u001b[0m)                   │ (\u001b[38;5;45mNone\u001b[0m, \u001b[38;5;34m64\u001b[0m)             │     \u001b[38;5;34m2,048,064\u001b[0m │\n",
       "├─────────────────────────────────┼────────────────────────┼───────────────┤\n",
       "│ dropout_3 (\u001b[38;5;33mDropout\u001b[0m)             │ (\u001b[38;5;45mNone\u001b[0m, \u001b[38;5;34m64\u001b[0m)             │             \u001b[38;5;34m0\u001b[0m │\n",
       "├─────────────────────────────────┼────────────────────────┼───────────────┤\n",
       "│ dense_1 (\u001b[38;5;33mDense\u001b[0m)                 │ (\u001b[38;5;45mNone\u001b[0m, \u001b[38;5;34m1\u001b[0m)              │            \u001b[38;5;34m65\u001b[0m │\n",
       "└─────────────────────────────────┴────────────────────────┴───────────────┘\n"
      ]
     },
     "metadata": {},
     "output_type": "display_data"
    },
    {
     "data": {
      "text/html": [
       "<pre style=\"white-space:pre;overflow-x:auto;line-height:normal;font-family:Menlo,'DejaVu Sans Mono',consolas,'Courier New',monospace\"><span style=\"font-weight: bold\"> Total params: </span><span style=\"color: #00af00; text-decoration-color: #00af00\">6,639,749</span> (25.33 MB)\n",
       "</pre>\n"
      ],
      "text/plain": [
       "\u001b[1m Total params: \u001b[0m\u001b[38;5;34m6,639,749\u001b[0m (25.33 MB)\n"
      ]
     },
     "metadata": {},
     "output_type": "display_data"
    },
    {
     "data": {
      "text/html": [
       "<pre style=\"white-space:pre;overflow-x:auto;line-height:normal;font-family:Menlo,'DejaVu Sans Mono',consolas,'Courier New',monospace\"><span style=\"font-weight: bold\"> Trainable params: </span><span style=\"color: #00af00; text-decoration-color: #00af00\">2,213,249</span> (8.44 MB)\n",
       "</pre>\n"
      ],
      "text/plain": [
       "\u001b[1m Trainable params: \u001b[0m\u001b[38;5;34m2,213,249\u001b[0m (8.44 MB)\n"
      ]
     },
     "metadata": {},
     "output_type": "display_data"
    },
    {
     "data": {
      "text/html": [
       "<pre style=\"white-space:pre;overflow-x:auto;line-height:normal;font-family:Menlo,'DejaVu Sans Mono',consolas,'Courier New',monospace\"><span style=\"font-weight: bold\"> Non-trainable params: </span><span style=\"color: #00af00; text-decoration-color: #00af00\">0</span> (0.00 B)\n",
       "</pre>\n"
      ],
      "text/plain": [
       "\u001b[1m Non-trainable params: \u001b[0m\u001b[38;5;34m0\u001b[0m (0.00 B)\n"
      ]
     },
     "metadata": {},
     "output_type": "display_data"
    },
    {
     "data": {
      "text/html": [
       "<pre style=\"white-space:pre;overflow-x:auto;line-height:normal;font-family:Menlo,'DejaVu Sans Mono',consolas,'Courier New',monospace\"><span style=\"font-weight: bold\"> Optimizer params: </span><span style=\"color: #00af00; text-decoration-color: #00af00\">4,426,500</span> (16.89 MB)\n",
       "</pre>\n"
      ],
      "text/plain": [
       "\u001b[1m Optimizer params: \u001b[0m\u001b[38;5;34m4,426,500\u001b[0m (16.89 MB)\n"
      ]
     },
     "metadata": {},
     "output_type": "display_data"
    }
   ],
   "source": [
    "# Load the trained model from Phase 2\n",
    "base_model = tf.keras.models.load_model('/kaggle/input/ims-deeplearning-data-prep-part2/bearing_cnn_base_model.keras')\n",
    "print(\"Base model loaded successfully!\")\n",
    "base_model.summary()"
   ]
  },
  {
   "cell_type": "code",
   "execution_count": 3,
   "id": "4edc557c",
   "metadata": {
    "execution": {
     "iopub.execute_input": "2025-10-28T17:14:00.991084Z",
     "iopub.status.busy": "2025-10-28T17:14:00.990838Z",
     "iopub.status.idle": "2025-10-28T17:14:01.232771Z",
     "shell.execute_reply": "2025-10-28T17:14:01.231771Z"
    },
    "papermill": {
     "duration": 0.246602,
     "end_time": "2025-10-28T17:14:01.234265",
     "exception": false,
     "start_time": "2025-10-28T17:14:00.987663",
     "status": "completed"
    },
    "tags": []
   },
   "outputs": [],
   "source": [
    "#Load the CWRU testing data\n",
    "X_test = np.load('/kaggle/input/cwru-dataprep/X_CWRU_test_no_overlap.npy')\n",
    "y_test = np.load('/kaggle/input/cwru-dataprep/y_CWRU_test_no_overlap.npy')"
   ]
  },
  {
   "cell_type": "code",
   "execution_count": 4,
   "id": "bbb1227a",
   "metadata": {
    "execution": {
     "iopub.execute_input": "2025-10-28T17:14:01.241059Z",
     "iopub.status.busy": "2025-10-28T17:14:01.240770Z",
     "iopub.status.idle": "2025-10-28T17:14:01.245536Z",
     "shell.execute_reply": "2025-10-28T17:14:01.244469Z"
    },
    "papermill": {
     "duration": 0.009533,
     "end_time": "2025-10-28T17:14:01.246830",
     "exception": false,
     "start_time": "2025-10-28T17:14:01.237297",
     "status": "completed"
    },
    "tags": []
   },
   "outputs": [
    {
     "name": "stdout",
     "output_type": "stream",
     "text": [
      "Class distribution: [ 236 2133]\n"
     ]
    }
   ],
   "source": [
    "print(f\"Class distribution: {np.bincount(y_test.astype(int))}\")"
   ]
  },
  {
   "cell_type": "markdown",
   "id": "8072b881",
   "metadata": {
    "papermill": {
     "duration": 0.002387,
     "end_time": "2025-10-28T17:14:01.251923",
     "exception": false,
     "start_time": "2025-10-28T17:14:01.249536",
     "status": "completed"
    },
    "tags": []
   },
   "source": [
    "## Prepare CWRU for Transfer Learning"
   ]
  },
  {
   "cell_type": "code",
   "execution_count": 5,
   "id": "0a3b562b",
   "metadata": {
    "execution": {
     "iopub.execute_input": "2025-10-28T17:14:01.258696Z",
     "iopub.status.busy": "2025-10-28T17:14:01.258370Z",
     "iopub.status.idle": "2025-10-28T17:14:01.279709Z",
     "shell.execute_reply": "2025-10-28T17:14:01.278590Z"
    },
    "papermill": {
     "duration": 0.026428,
     "end_time": "2025-10-28T17:14:01.280835",
     "exception": false,
     "start_time": "2025-10-28T17:14:01.254407",
     "status": "completed"
    },
    "tags": []
   },
   "outputs": [
    {
     "name": "stdout",
     "output_type": "stream",
     "text": [
      "CWRU Train: (473, 2048, 1)\n",
      "CWRU Test: (1896, 2048, 1)\n",
      "Train distribution: [ 47 426]\n",
      "Test distribution: [ 189 1707]\n"
     ]
    }
   ],
   "source": [
    "from sklearn.model_selection import train_test_split\n",
    "#Split CWRU: 30% for fine-tuning, 70% for testing\n",
    "X_cwru_train, X_cwru_test, y_cwru_train, y_cwru_test = train_test_split(\n",
    "    X_test, y_test, \n",
    "    test_size=0.8, \n",
    "    stratify=y_test,\n",
    "    random_state=42\n",
    ")\n",
    "\n",
    "print(f\"CWRU Train: {X_cwru_train.shape}\")\n",
    "print(f\"CWRU Test: {X_cwru_test.shape}\")\n",
    "print(f\"Train distribution: {np.bincount(y_cwru_train.astype(int))}\")\n",
    "print(f\"Test distribution: {np.bincount(y_cwru_test.astype(int))}\")"
   ]
  },
  {
   "cell_type": "markdown",
   "id": "35b20ccc",
   "metadata": {
    "papermill": {
     "duration": 0.002616,
     "end_time": "2025-10-28T17:14:01.286226",
     "exception": false,
     "start_time": "2025-10-28T17:14:01.283610",
     "status": "completed"
    },
    "tags": []
   },
   "source": [
    "## Transfer Learning (Freeze & Fine-tune)"
   ]
  },
  {
   "cell_type": "code",
   "execution_count": 6,
   "id": "327d3323",
   "metadata": {
    "execution": {
     "iopub.execute_input": "2025-10-28T17:14:01.292482Z",
     "iopub.status.busy": "2025-10-28T17:14:01.292161Z",
     "iopub.status.idle": "2025-10-28T17:14:20.448819Z",
     "shell.execute_reply": "2025-10-28T17:14:20.447733Z"
    },
    "papermill": {
     "duration": 19.16139,
     "end_time": "2025-10-28T17:14:20.450177",
     "exception": false,
     "start_time": "2025-10-28T17:14:01.288787",
     "status": "completed"
    },
    "tags": []
   },
   "outputs": [
    {
     "name": "stdout",
     "output_type": "stream",
     "text": [
      "=== EXPERIMENT 1: Transfer Learning ===\n",
      "Frozen layers:\n",
      "Layer 0: conv1d - Trainable: False\n",
      "Layer 1: max_pooling1d - Trainable: False\n",
      "Layer 2: dropout - Trainable: False\n",
      "Layer 3: conv1d_1 - Trainable: False\n",
      "Layer 4: max_pooling1d_1 - Trainable: False\n",
      "Layer 5: dropout_1 - Trainable: False\n",
      "Layer 6: conv1d_2 - Trainable: False\n",
      "Layer 7: max_pooling1d_2 - Trainable: False\n",
      "Layer 8: dropout_2 - Trainable: False\n",
      "Layer 9: flatten - Trainable: False\n",
      "Layer 10: dense - Trainable: True\n",
      "Layer 11: dropout_3 - Trainable: True\n",
      "Layer 12: dense_1 - Trainable: True\n",
      "\n",
      "Fine-tuning on CWRU data...\n",
      "Epoch 1/10\n",
      "\u001b[1m15/15\u001b[0m \u001b[32m━━━━━━━━━━━━━━━━━━━━\u001b[0m\u001b[37m\u001b[0m \u001b[1m4s\u001b[0m 96ms/step - accuracy: 0.5158 - loss: 215.2938 - recall: 0.4713\n",
      "Epoch 2/10\n",
      "\u001b[1m15/15\u001b[0m \u001b[32m━━━━━━━━━━━━━━━━━━━━\u001b[0m\u001b[37m\u001b[0m \u001b[1m1s\u001b[0m 89ms/step - accuracy: 0.6139 - loss: 32.1051 - recall: 0.5975\n",
      "Epoch 3/10\n",
      "\u001b[1m15/15\u001b[0m \u001b[32m━━━━━━━━━━━━━━━━━━━━\u001b[0m\u001b[37m\u001b[0m \u001b[1m1s\u001b[0m 92ms/step - accuracy: 0.8681 - loss: 1.6344 - recall: 0.9261\n",
      "Epoch 4/10\n",
      "\u001b[1m15/15\u001b[0m \u001b[32m━━━━━━━━━━━━━━━━━━━━\u001b[0m\u001b[37m\u001b[0m \u001b[1m3s\u001b[0m 97ms/step - accuracy: 0.9211 - loss: 0.1369 - recall: 0.9910\n",
      "Epoch 5/10\n",
      "\u001b[1m15/15\u001b[0m \u001b[32m━━━━━━━━━━━━━━━━━━━━\u001b[0m\u001b[37m\u001b[0m \u001b[1m1s\u001b[0m 91ms/step - accuracy: 0.9173 - loss: 0.1059 - recall: 1.0000\n",
      "Epoch 6/10\n",
      "\u001b[1m15/15\u001b[0m \u001b[32m━━━━━━━━━━━━━━━━━━━━\u001b[0m\u001b[37m\u001b[0m \u001b[1m1s\u001b[0m 98ms/step - accuracy: 0.9242 - loss: 0.0947 - recall: 0.9992\n",
      "Epoch 7/10\n",
      "\u001b[1m15/15\u001b[0m \u001b[32m━━━━━━━━━━━━━━━━━━━━\u001b[0m\u001b[37m\u001b[0m \u001b[1m1s\u001b[0m 94ms/step - accuracy: 0.9286 - loss: 0.0908 - recall: 0.9979\n",
      "Epoch 8/10\n",
      "\u001b[1m15/15\u001b[0m \u001b[32m━━━━━━━━━━━━━━━━━━━━\u001b[0m\u001b[37m\u001b[0m \u001b[1m1s\u001b[0m 96ms/step - accuracy: 0.9448 - loss: 0.0778 - recall: 0.9988\n",
      "Epoch 9/10\n",
      "\u001b[1m15/15\u001b[0m \u001b[32m━━━━━━━━━━━━━━━━━━━━\u001b[0m\u001b[37m\u001b[0m \u001b[1m1s\u001b[0m 92ms/step - accuracy: 0.9525 - loss: 0.0691 - recall: 1.0000\n",
      "Epoch 10/10\n",
      "\u001b[1m15/15\u001b[0m \u001b[32m━━━━━━━━━━━━━━━━━━━━\u001b[0m\u001b[37m\u001b[0m \u001b[1m3s\u001b[0m 97ms/step - accuracy: 0.9553 - loss: 0.0730 - recall: 1.0000\n"
     ]
    }
   ],
   "source": [
    "print(\"=== EXPERIMENT 1: Transfer Learning ===\")\n",
    "\n",
    "# Clone the base model so we don't modify the original\n",
    "model_transfer = keras.models.clone_model(base_model)\n",
    "model_transfer.set_weights(base_model.get_weights())\n",
    "\n",
    "# Freeze all layers except the last 3 (dense layers)\n",
    "for layer in model_transfer.layers[:-3]:\n",
    "    layer.trainable = False\n",
    "\n",
    "print(\"Frozen layers:\")\n",
    "for i, layer in enumerate(model_transfer.layers):\n",
    "    print(f\"Layer {i}: {layer.name} - Trainable: {layer.trainable}\")\n",
    "\n",
    "# Recompile with same settings as original\n",
    "model_transfer.compile(\n",
    "    optimizer='adam',\n",
    "    loss='binary_crossentropy',\n",
    "    metrics=['accuracy', tf.keras.metrics.Recall()]\n",
    ")\n",
    "\n",
    "# Fine-tune on CWRU training data\n",
    "print(\"\\nFine-tuning on CWRU data...\")\n",
    "history_transfer = model_transfer.fit(\n",
    "    X_cwru_train, y_cwru_train,\n",
    "    epochs=10,\n",
    "    batch_size=32,\n",
    "    #validation_split=0.2,\n",
    "    verbose=1\n",
    ")\n",
    "\n"
   ]
  },
  {
   "cell_type": "code",
   "execution_count": 7,
   "id": "afaf6b9c",
   "metadata": {
    "execution": {
     "iopub.execute_input": "2025-10-28T17:14:20.470304Z",
     "iopub.status.busy": "2025-10-28T17:14:20.470002Z",
     "iopub.status.idle": "2025-10-28T17:14:25.007020Z",
     "shell.execute_reply": "2025-10-28T17:14:25.005513Z"
    },
    "papermill": {
     "duration": 4.548077,
     "end_time": "2025-10-28T17:14:25.008370",
     "exception": false,
     "start_time": "2025-10-28T17:14:20.460293",
     "status": "completed"
    },
    "tags": []
   },
   "outputs": [
    {
     "name": "stdout",
     "output_type": "stream",
     "text": [
      "\u001b[1m60/60\u001b[0m \u001b[32m━━━━━━━━━━━━━━━━━━━━\u001b[0m\u001b[37m\u001b[0m \u001b[1m4s\u001b[0m 72ms/step\n",
      "\n",
      "Classification Report:\n",
      "              precision    recall  f1-score   support\n",
      "\n",
      "           0       1.00      0.98      0.99       189\n",
      "           1       1.00      1.00      1.00      1707\n",
      "\n",
      "    accuracy                           1.00      1896\n",
      "   macro avg       1.00      0.99      0.99      1896\n",
      "weighted avg       1.00      1.00      1.00      1896\n",
      "\n",
      "\n",
      "Confusion Matrix:\n",
      "[[ 185    4]\n",
      " [   0 1707]]\n",
      "\n",
      "Prediction breakdown:\n",
      "Predicted class 0: 185 samples (9.8%)\n",
      "Predicted class 1: 1711 samples (90.2%)\n"
     ]
    }
   ],
   "source": [
    "# Evaluate\n",
    "y_pred_transfer = (model_transfer.predict(X_cwru_test) > 0.9).astype(int)\n",
    "\n",
    "print(\"\\nClassification Report:\")\n",
    "print(classification_report(y_cwru_test, y_pred_transfer))\n",
    "\n",
    "cm_transfer = confusion_matrix(y_cwru_test, y_pred_transfer)\n",
    "print(\"\\nConfusion Matrix:\")\n",
    "print(cm_transfer)\n",
    "\n",
    "print(f\"\\nPrediction breakdown:\")\n",
    "unique, counts = np.unique(y_pred_transfer, return_counts=True)\n",
    "for cls, count in zip(unique, counts):\n",
    "    percentage = (count / len(y_pred_transfer)) * 100\n",
    "    print(f\"Predicted class {cls}: {count} samples ({percentage:.1f}%)\")"
   ]
  }
 ],
 "metadata": {
  "kaggle": {
   "accelerator": "none",
   "dataSources": [
    {
     "sourceId": 269483474,
     "sourceType": "kernelVersion"
    },
    {
     "sourceId": 270600443,
     "sourceType": "kernelVersion"
    }
   ],
   "dockerImageVersionId": 31153,
   "isGpuEnabled": false,
   "isInternetEnabled": true,
   "language": "python",
   "sourceType": "notebook"
  },
  "kernelspec": {
   "display_name": "Python 3",
   "language": "python",
   "name": "python3"
  },
  "language_info": {
   "codemirror_mode": {
    "name": "ipython",
    "version": 3
   },
   "file_extension": ".py",
   "mimetype": "text/x-python",
   "name": "python",
   "nbconvert_exporter": "python",
   "pygments_lexer": "ipython3",
   "version": "3.11.13"
  },
  "papermill": {
   "default_parameters": {},
   "duration": 55.545435,
   "end_time": "2025-10-28T17:14:27.787737",
   "environment_variables": {},
   "exception": null,
   "input_path": "__notebook__.ipynb",
   "output_path": "__notebook__.ipynb",
   "parameters": {},
   "start_time": "2025-10-28T17:13:32.242302",
   "version": "2.6.0"
  }
 },
 "nbformat": 4,
 "nbformat_minor": 5
}
