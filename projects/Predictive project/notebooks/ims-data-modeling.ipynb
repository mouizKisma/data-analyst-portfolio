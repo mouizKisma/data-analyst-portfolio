{
 "cells": [
  {
   "cell_type": "markdown",
   "id": "707be1ed",
   "metadata": {
    "papermill": {
     "duration": 0.007877,
     "end_time": "2025-09-04T17:15:15.304382",
     "exception": false,
     "start_time": "2025-09-04T17:15:15.296505",
     "status": "completed"
    },
    "tags": []
   },
   "source": [
    "# Modeling"
   ]
  },
  {
   "cell_type": "code",
   "execution_count": 1,
   "id": "a80ef030",
   "metadata": {
    "execution": {
     "iopub.execute_input": "2025-09-04T17:15:15.320324Z",
     "iopub.status.busy": "2025-09-04T17:15:15.319472Z",
     "iopub.status.idle": "2025-09-04T17:15:21.622018Z",
     "shell.execute_reply": "2025-09-04T17:15:21.620027Z"
    },
    "papermill": {
     "duration": 6.313297,
     "end_time": "2025-09-04T17:15:21.624767",
     "exception": false,
     "start_time": "2025-09-04T17:15:15.311470",
     "status": "completed"
    },
    "tags": []
   },
   "outputs": [],
   "source": [
    "import numpy as np\n",
    "import pandas as pd\n",
    "import pandas as pd\n",
    "import matplotlib.pyplot as plt\n",
    "import seaborn as sns\n",
    "from sklearn.model_selection import train_test_split\n",
    "from sklearn.preprocessing import LabelEncoder\n",
    "from sklearn.ensemble import RandomForestClassifier\n",
    "from sklearn.metrics import classification_report, confusion_matrix\n",
    "from xgboost import XGBClassifier"
   ]
  },
  {
   "cell_type": "markdown",
   "id": "f0b97553",
   "metadata": {
    "papermill": {
     "duration": 0.006781,
     "end_time": "2025-09-04T17:15:21.639465",
     "exception": false,
     "start_time": "2025-09-04T17:15:21.632684",
     "status": "completed"
    },
    "tags": []
   },
   "source": [
    "## Load Data"
   ]
  },
  {
   "cell_type": "code",
   "execution_count": 2,
   "id": "5af85ae3",
   "metadata": {
    "execution": {
     "iopub.execute_input": "2025-09-04T17:15:21.656229Z",
     "iopub.status.busy": "2025-09-04T17:15:21.655733Z",
     "iopub.status.idle": "2025-09-04T17:15:21.823488Z",
     "shell.execute_reply": "2025-09-04T17:15:21.822003Z"
    },
    "papermill": {
     "duration": 0.177911,
     "end_time": "2025-09-04T17:15:21.825630",
     "exception": false,
     "start_time": "2025-09-04T17:15:21.647719",
     "status": "completed"
    },
    "tags": []
   },
   "outputs": [],
   "source": [
    "# load training run (with labels Healthy, NearFailure, Failure)\n",
    "df = pd.read_csv(\"/kaggle/input/bearings-features-ml/bearing_features_ml.csv\")\n"
   ]
  },
  {
   "cell_type": "code",
   "execution_count": 3,
   "id": "cf7c48ca",
   "metadata": {
    "execution": {
     "iopub.execute_input": "2025-09-04T17:15:21.844581Z",
     "iopub.status.busy": "2025-09-04T17:15:21.844276Z",
     "iopub.status.idle": "2025-09-04T17:15:21.876144Z",
     "shell.execute_reply": "2025-09-04T17:15:21.875034Z"
    },
    "papermill": {
     "duration": 0.044472,
     "end_time": "2025-09-04T17:15:21.878437",
     "exception": false,
     "start_time": "2025-09-04T17:15:21.833965",
     "status": "completed"
    },
    "tags": []
   },
   "outputs": [
    {
     "data": {
      "text/html": [
       "<div>\n",
       "<style scoped>\n",
       "    .dataframe tbody tr th:only-of-type {\n",
       "        vertical-align: middle;\n",
       "    }\n",
       "\n",
       "    .dataframe tbody tr th {\n",
       "        vertical-align: top;\n",
       "    }\n",
       "\n",
       "    .dataframe thead th {\n",
       "        text-align: right;\n",
       "    }\n",
       "</style>\n",
       "<table border=\"1\" class=\"dataframe\">\n",
       "  <thead>\n",
       "    <tr style=\"text-align: right;\">\n",
       "      <th></th>\n",
       "      <th>rms</th>\n",
       "      <th>kurtosis</th>\n",
       "      <th>crest_factor</th>\n",
       "      <th>spectral_entropy</th>\n",
       "      <th>dominant_frequency</th>\n",
       "      <th>health_state</th>\n",
       "      <th>bearing_name</th>\n",
       "    </tr>\n",
       "  </thead>\n",
       "  <tbody>\n",
       "    <tr>\n",
       "      <th>0</th>\n",
       "      <td>-1.404872</td>\n",
       "      <td>-0.294089</td>\n",
       "      <td>-0.749561</td>\n",
       "      <td>-3.045741</td>\n",
       "      <td>-0.08463</td>\n",
       "      <td>0.0</td>\n",
       "      <td>labeled_df1_bearing3_ch5</td>\n",
       "    </tr>\n",
       "    <tr>\n",
       "      <th>1</th>\n",
       "      <td>-1.387942</td>\n",
       "      <td>-0.277844</td>\n",
       "      <td>-0.143750</td>\n",
       "      <td>-4.067255</td>\n",
       "      <td>-0.08463</td>\n",
       "      <td>0.0</td>\n",
       "      <td>labeled_df1_bearing3_ch5</td>\n",
       "    </tr>\n",
       "    <tr>\n",
       "      <th>2</th>\n",
       "      <td>-1.473794</td>\n",
       "      <td>-0.279811</td>\n",
       "      <td>-0.548704</td>\n",
       "      <td>-2.015796</td>\n",
       "      <td>-0.08463</td>\n",
       "      <td>0.0</td>\n",
       "      <td>labeled_df1_bearing3_ch5</td>\n",
       "    </tr>\n",
       "    <tr>\n",
       "      <th>3</th>\n",
       "      <td>-1.477916</td>\n",
       "      <td>-0.296020</td>\n",
       "      <td>-0.260474</td>\n",
       "      <td>-3.425314</td>\n",
       "      <td>-0.08463</td>\n",
       "      <td>0.0</td>\n",
       "      <td>labeled_df1_bearing3_ch5</td>\n",
       "    </tr>\n",
       "    <tr>\n",
       "      <th>4</th>\n",
       "      <td>-1.413450</td>\n",
       "      <td>-0.285762</td>\n",
       "      <td>-0.420460</td>\n",
       "      <td>-3.459451</td>\n",
       "      <td>-0.08463</td>\n",
       "      <td>0.0</td>\n",
       "      <td>labeled_df1_bearing3_ch5</td>\n",
       "    </tr>\n",
       "  </tbody>\n",
       "</table>\n",
       "</div>"
      ],
      "text/plain": [
       "        rms  kurtosis  crest_factor  spectral_entropy  dominant_frequency  \\\n",
       "0 -1.404872 -0.294089     -0.749561         -3.045741            -0.08463   \n",
       "1 -1.387942 -0.277844     -0.143750         -4.067255            -0.08463   \n",
       "2 -1.473794 -0.279811     -0.548704         -2.015796            -0.08463   \n",
       "3 -1.477916 -0.296020     -0.260474         -3.425314            -0.08463   \n",
       "4 -1.413450 -0.285762     -0.420460         -3.459451            -0.08463   \n",
       "\n",
       "   health_state              bearing_name  \n",
       "0           0.0  labeled_df1_bearing3_ch5  \n",
       "1           0.0  labeled_df1_bearing3_ch5  \n",
       "2           0.0  labeled_df1_bearing3_ch5  \n",
       "3           0.0  labeled_df1_bearing3_ch5  \n",
       "4           0.0  labeled_df1_bearing3_ch5  "
      ]
     },
     "execution_count": 3,
     "metadata": {},
     "output_type": "execute_result"
    }
   ],
   "source": [
    "df.head()"
   ]
  },
  {
   "cell_type": "code",
   "execution_count": 4,
   "id": "d6bb5f72",
   "metadata": {
    "execution": {
     "iopub.execute_input": "2025-09-04T17:15:21.895347Z",
     "iopub.status.busy": "2025-09-04T17:15:21.894994Z",
     "iopub.status.idle": "2025-09-04T17:15:21.931933Z",
     "shell.execute_reply": "2025-09-04T17:15:21.930647Z"
    },
    "papermill": {
     "duration": 0.04843,
     "end_time": "2025-09-04T17:15:21.934205",
     "exception": false,
     "start_time": "2025-09-04T17:15:21.885775",
     "status": "completed"
    },
    "tags": []
   },
   "outputs": [
    {
     "data": {
      "text/html": [
       "<div>\n",
       "<style scoped>\n",
       "    .dataframe tbody tr th:only-of-type {\n",
       "        vertical-align: middle;\n",
       "    }\n",
       "\n",
       "    .dataframe tbody tr th {\n",
       "        vertical-align: top;\n",
       "    }\n",
       "\n",
       "    .dataframe thead th {\n",
       "        text-align: right;\n",
       "    }\n",
       "</style>\n",
       "<table border=\"1\" class=\"dataframe\">\n",
       "  <thead>\n",
       "    <tr style=\"text-align: right;\">\n",
       "      <th></th>\n",
       "      <th>rms</th>\n",
       "      <th>kurtosis</th>\n",
       "      <th>crest_factor</th>\n",
       "      <th>spectral_entropy</th>\n",
       "      <th>dominant_frequency</th>\n",
       "      <th>health_state</th>\n",
       "      <th>bearing_name</th>\n",
       "    </tr>\n",
       "  </thead>\n",
       "  <tbody>\n",
       "    <tr>\n",
       "      <th>7308</th>\n",
       "      <td>-0.548710</td>\n",
       "      <td>-0.205508</td>\n",
       "      <td>1.643400</td>\n",
       "      <td>0.485236</td>\n",
       "      <td>-0.419111</td>\n",
       "      <td>0.0</td>\n",
       "      <td>labeled_df2_bearing1</td>\n",
       "    </tr>\n",
       "    <tr>\n",
       "      <th>7309</th>\n",
       "      <td>-0.528030</td>\n",
       "      <td>-0.185277</td>\n",
       "      <td>-0.046506</td>\n",
       "      <td>1.155730</td>\n",
       "      <td>-0.419111</td>\n",
       "      <td>0.0</td>\n",
       "      <td>labeled_df2_bearing1</td>\n",
       "    </tr>\n",
       "    <tr>\n",
       "      <th>7310</th>\n",
       "      <td>-0.513470</td>\n",
       "      <td>-0.324940</td>\n",
       "      <td>2.473626</td>\n",
       "      <td>1.057599</td>\n",
       "      <td>-0.419111</td>\n",
       "      <td>0.0</td>\n",
       "      <td>labeled_df2_bearing1</td>\n",
       "    </tr>\n",
       "    <tr>\n",
       "      <th>7311</th>\n",
       "      <td>-0.470615</td>\n",
       "      <td>0.342708</td>\n",
       "      <td>4.426592</td>\n",
       "      <td>1.112768</td>\n",
       "      <td>-0.419111</td>\n",
       "      <td>0.0</td>\n",
       "      <td>labeled_df2_bearing1</td>\n",
       "    </tr>\n",
       "    <tr>\n",
       "      <th>7312</th>\n",
       "      <td>-0.474901</td>\n",
       "      <td>-0.232013</td>\n",
       "      <td>-0.332247</td>\n",
       "      <td>0.990680</td>\n",
       "      <td>-0.419111</td>\n",
       "      <td>0.0</td>\n",
       "      <td>labeled_df2_bearing1</td>\n",
       "    </tr>\n",
       "  </tbody>\n",
       "</table>\n",
       "</div>"
      ],
      "text/plain": [
       "           rms  kurtosis  crest_factor  spectral_entropy  dominant_frequency  \\\n",
       "7308 -0.548710 -0.205508      1.643400          0.485236           -0.419111   \n",
       "7309 -0.528030 -0.185277     -0.046506          1.155730           -0.419111   \n",
       "7310 -0.513470 -0.324940      2.473626          1.057599           -0.419111   \n",
       "7311 -0.470615  0.342708      4.426592          1.112768           -0.419111   \n",
       "7312 -0.474901 -0.232013     -0.332247          0.990680           -0.419111   \n",
       "\n",
       "      health_state          bearing_name  \n",
       "7308           0.0  labeled_df2_bearing1  \n",
       "7309           0.0  labeled_df2_bearing1  \n",
       "7310           0.0  labeled_df2_bearing1  \n",
       "7311           0.0  labeled_df2_bearing1  \n",
       "7312           0.0  labeled_df2_bearing1  "
      ]
     },
     "execution_count": 4,
     "metadata": {},
     "output_type": "execute_result"
    }
   ],
   "source": [
    "df_test = df[df[\"bearing_name\"].str.contains(\"labeled_df2_bearing1\")].copy()\n",
    "df_test.head()"
   ]
  },
  {
   "cell_type": "code",
   "execution_count": 5,
   "id": "ee402212",
   "metadata": {
    "execution": {
     "iopub.execute_input": "2025-09-04T17:15:21.951590Z",
     "iopub.status.busy": "2025-09-04T17:15:21.951251Z",
     "iopub.status.idle": "2025-09-04T17:15:21.984186Z",
     "shell.execute_reply": "2025-09-04T17:15:21.982323Z"
    },
    "papermill": {
     "duration": 0.04356,
     "end_time": "2025-09-04T17:15:21.986465",
     "exception": false,
     "start_time": "2025-09-04T17:15:21.942905",
     "status": "completed"
    },
    "tags": []
   },
   "outputs": [
    {
     "data": {
      "text/html": [
       "<div>\n",
       "<style scoped>\n",
       "    .dataframe tbody tr th:only-of-type {\n",
       "        vertical-align: middle;\n",
       "    }\n",
       "\n",
       "    .dataframe tbody tr th {\n",
       "        vertical-align: top;\n",
       "    }\n",
       "\n",
       "    .dataframe thead th {\n",
       "        text-align: right;\n",
       "    }\n",
       "</style>\n",
       "<table border=\"1\" class=\"dataframe\">\n",
       "  <thead>\n",
       "    <tr style=\"text-align: right;\">\n",
       "      <th></th>\n",
       "      <th>rms</th>\n",
       "      <th>kurtosis</th>\n",
       "      <th>crest_factor</th>\n",
       "      <th>spectral_entropy</th>\n",
       "      <th>dominant_frequency</th>\n",
       "      <th>health_state</th>\n",
       "      <th>bearing_name</th>\n",
       "    </tr>\n",
       "  </thead>\n",
       "  <tbody>\n",
       "    <tr>\n",
       "      <th>0</th>\n",
       "      <td>-1.404872</td>\n",
       "      <td>-0.294089</td>\n",
       "      <td>-0.749561</td>\n",
       "      <td>-3.045741</td>\n",
       "      <td>-0.08463</td>\n",
       "      <td>0.0</td>\n",
       "      <td>labeled_df1_bearing3_ch5</td>\n",
       "    </tr>\n",
       "    <tr>\n",
       "      <th>1</th>\n",
       "      <td>-1.387942</td>\n",
       "      <td>-0.277844</td>\n",
       "      <td>-0.143750</td>\n",
       "      <td>-4.067255</td>\n",
       "      <td>-0.08463</td>\n",
       "      <td>0.0</td>\n",
       "      <td>labeled_df1_bearing3_ch5</td>\n",
       "    </tr>\n",
       "    <tr>\n",
       "      <th>2</th>\n",
       "      <td>-1.473794</td>\n",
       "      <td>-0.279811</td>\n",
       "      <td>-0.548704</td>\n",
       "      <td>-2.015796</td>\n",
       "      <td>-0.08463</td>\n",
       "      <td>0.0</td>\n",
       "      <td>labeled_df1_bearing3_ch5</td>\n",
       "    </tr>\n",
       "    <tr>\n",
       "      <th>3</th>\n",
       "      <td>-1.477916</td>\n",
       "      <td>-0.296020</td>\n",
       "      <td>-0.260474</td>\n",
       "      <td>-3.425314</td>\n",
       "      <td>-0.08463</td>\n",
       "      <td>0.0</td>\n",
       "      <td>labeled_df1_bearing3_ch5</td>\n",
       "    </tr>\n",
       "    <tr>\n",
       "      <th>4</th>\n",
       "      <td>-1.413450</td>\n",
       "      <td>-0.285762</td>\n",
       "      <td>-0.420460</td>\n",
       "      <td>-3.459451</td>\n",
       "      <td>-0.08463</td>\n",
       "      <td>0.0</td>\n",
       "      <td>labeled_df1_bearing3_ch5</td>\n",
       "    </tr>\n",
       "  </tbody>\n",
       "</table>\n",
       "</div>"
      ],
      "text/plain": [
       "        rms  kurtosis  crest_factor  spectral_entropy  dominant_frequency  \\\n",
       "0 -1.404872 -0.294089     -0.749561         -3.045741            -0.08463   \n",
       "1 -1.387942 -0.277844     -0.143750         -4.067255            -0.08463   \n",
       "2 -1.473794 -0.279811     -0.548704         -2.015796            -0.08463   \n",
       "3 -1.477916 -0.296020     -0.260474         -3.425314            -0.08463   \n",
       "4 -1.413450 -0.285762     -0.420460         -3.459451            -0.08463   \n",
       "\n",
       "   health_state              bearing_name  \n",
       "0           0.0  labeled_df1_bearing3_ch5  \n",
       "1           0.0  labeled_df1_bearing3_ch5  \n",
       "2           0.0  labeled_df1_bearing3_ch5  \n",
       "3           0.0  labeled_df1_bearing3_ch5  \n",
       "4           0.0  labeled_df1_bearing3_ch5  "
      ]
     },
     "execution_count": 5,
     "metadata": {},
     "output_type": "execute_result"
    }
   ],
   "source": [
    "# All other bearings → training set\n",
    "df_train = df[~df[\"bearing_name\"].str.contains(\"labeled_df2_bearing1\")].copy()\n",
    "df_train.head()\n"
   ]
  },
  {
   "cell_type": "code",
   "execution_count": 6,
   "id": "c43a0795",
   "metadata": {
    "execution": {
     "iopub.execute_input": "2025-09-04T17:15:22.006994Z",
     "iopub.status.busy": "2025-09-04T17:15:22.006618Z",
     "iopub.status.idle": "2025-09-04T17:15:22.016810Z",
     "shell.execute_reply": "2025-09-04T17:15:22.014977Z"
    },
    "papermill": {
     "duration": 0.024846,
     "end_time": "2025-09-04T17:15:22.018765",
     "exception": false,
     "start_time": "2025-09-04T17:15:21.993919",
     "status": "completed"
    },
    "tags": []
   },
   "outputs": [],
   "source": [
    "X = df_train.drop(columns=[\"bearing_name\", \"health_state\"])  # features only\n",
    "y = df_train[\"health_state\"]                              # target variable"
   ]
  },
  {
   "cell_type": "code",
   "execution_count": 7,
   "id": "fb5564fa",
   "metadata": {
    "execution": {
     "iopub.execute_input": "2025-09-04T17:15:22.035298Z",
     "iopub.status.busy": "2025-09-04T17:15:22.034947Z",
     "iopub.status.idle": "2025-09-04T17:15:22.042780Z",
     "shell.execute_reply": "2025-09-04T17:15:22.040905Z"
    },
    "papermill": {
     "duration": 0.019067,
     "end_time": "2025-09-04T17:15:22.045520",
     "exception": false,
     "start_time": "2025-09-04T17:15:22.026453",
     "status": "completed"
    },
    "tags": []
   },
   "outputs": [],
   "source": [
    "X_test = df_test.drop(columns=[\"bearing_name\", \"health_state\"])\n",
    "y_test = df_test[\"health_state\"]   "
   ]
  },
  {
   "cell_type": "code",
   "execution_count": 8,
   "id": "ace50a4c",
   "metadata": {
    "execution": {
     "iopub.execute_input": "2025-09-04T17:15:22.063555Z",
     "iopub.status.busy": "2025-09-04T17:15:22.061675Z",
     "iopub.status.idle": "2025-09-04T17:15:22.077370Z",
     "shell.execute_reply": "2025-09-04T17:15:22.076390Z"
    },
    "papermill": {
     "duration": 0.026061,
     "end_time": "2025-09-04T17:15:22.078943",
     "exception": false,
     "start_time": "2025-09-04T17:15:22.052882",
     "status": "completed"
    },
    "tags": []
   },
   "outputs": [
    {
     "data": {
      "text/html": [
       "<div>\n",
       "<style scoped>\n",
       "    .dataframe tbody tr th:only-of-type {\n",
       "        vertical-align: middle;\n",
       "    }\n",
       "\n",
       "    .dataframe tbody tr th {\n",
       "        vertical-align: top;\n",
       "    }\n",
       "\n",
       "    .dataframe thead th {\n",
       "        text-align: right;\n",
       "    }\n",
       "</style>\n",
       "<table border=\"1\" class=\"dataframe\">\n",
       "  <thead>\n",
       "    <tr style=\"text-align: right;\">\n",
       "      <th></th>\n",
       "      <th>rms</th>\n",
       "      <th>kurtosis</th>\n",
       "      <th>crest_factor</th>\n",
       "      <th>spectral_entropy</th>\n",
       "      <th>dominant_frequency</th>\n",
       "    </tr>\n",
       "  </thead>\n",
       "  <tbody>\n",
       "    <tr>\n",
       "      <th>7308</th>\n",
       "      <td>-0.548710</td>\n",
       "      <td>-0.205508</td>\n",
       "      <td>1.643400</td>\n",
       "      <td>0.485236</td>\n",
       "      <td>-0.419111</td>\n",
       "    </tr>\n",
       "    <tr>\n",
       "      <th>7309</th>\n",
       "      <td>-0.528030</td>\n",
       "      <td>-0.185277</td>\n",
       "      <td>-0.046506</td>\n",
       "      <td>1.155730</td>\n",
       "      <td>-0.419111</td>\n",
       "    </tr>\n",
       "    <tr>\n",
       "      <th>7310</th>\n",
       "      <td>-0.513470</td>\n",
       "      <td>-0.324940</td>\n",
       "      <td>2.473626</td>\n",
       "      <td>1.057599</td>\n",
       "      <td>-0.419111</td>\n",
       "    </tr>\n",
       "    <tr>\n",
       "      <th>7311</th>\n",
       "      <td>-0.470615</td>\n",
       "      <td>0.342708</td>\n",
       "      <td>4.426592</td>\n",
       "      <td>1.112768</td>\n",
       "      <td>-0.419111</td>\n",
       "    </tr>\n",
       "    <tr>\n",
       "      <th>7312</th>\n",
       "      <td>-0.474901</td>\n",
       "      <td>-0.232013</td>\n",
       "      <td>-0.332247</td>\n",
       "      <td>0.990680</td>\n",
       "      <td>-0.419111</td>\n",
       "    </tr>\n",
       "  </tbody>\n",
       "</table>\n",
       "</div>"
      ],
      "text/plain": [
       "           rms  kurtosis  crest_factor  spectral_entropy  dominant_frequency\n",
       "7308 -0.548710 -0.205508      1.643400          0.485236           -0.419111\n",
       "7309 -0.528030 -0.185277     -0.046506          1.155730           -0.419111\n",
       "7310 -0.513470 -0.324940      2.473626          1.057599           -0.419111\n",
       "7311 -0.470615  0.342708      4.426592          1.112768           -0.419111\n",
       "7312 -0.474901 -0.232013     -0.332247          0.990680           -0.419111"
      ]
     },
     "execution_count": 8,
     "metadata": {},
     "output_type": "execute_result"
    }
   ],
   "source": [
    "X_test.head()"
   ]
  },
  {
   "cell_type": "markdown",
   "id": "1573eb01",
   "metadata": {
    "papermill": {
     "duration": 0.007225,
     "end_time": "2025-09-04T17:15:22.094495",
     "exception": false,
     "start_time": "2025-09-04T17:15:22.087270",
     "status": "completed"
    },
    "tags": []
   },
   "source": [
    "## Model training and comparison"
   ]
  },
  {
   "cell_type": "code",
   "execution_count": 9,
   "id": "b57796da",
   "metadata": {
    "execution": {
     "iopub.execute_input": "2025-09-04T17:15:22.113030Z",
     "iopub.status.busy": "2025-09-04T17:15:22.112528Z",
     "iopub.status.idle": "2025-09-04T17:15:31.164413Z",
     "shell.execute_reply": "2025-09-04T17:15:31.163081Z"
    },
    "papermill": {
     "duration": 9.062314,
     "end_time": "2025-09-04T17:15:31.166436",
     "exception": false,
     "start_time": "2025-09-04T17:15:22.104122",
     "status": "completed"
    },
    "tags": []
   },
   "outputs": [
    {
     "name": "stdout",
     "output_type": "stream",
     "text": [
      "\n",
      "=== Random Forest Test Report ===\n",
      "              precision    recall  f1-score   support\n",
      "\n",
      "         0.0       0.89      1.00      0.94       651\n",
      "         1.0       1.00      0.67      0.80       251\n",
      "\n",
      "    accuracy                           0.91       902\n",
      "   macro avg       0.94      0.83      0.87       902\n",
      "weighted avg       0.92      0.91      0.90       902\n",
      "\n"
     ]
    },
    {
     "data": {
      "image/png": "[encoded data removed]",
      "text/plain": [
       "<Figure size 640x480 with 2 Axes>"
      ]
     },
     "metadata": {},
     "output_type": "display_data"
    },
    {
     "name": "stdout",
     "output_type": "stream",
     "text": [
      "\n",
      "=== XGBoost Test Report ===\n",
      "              precision    recall  f1-score   support\n",
      "\n",
      "         0.0       0.92      1.00      0.96       651\n",
      "         1.0       1.00      0.78      0.88       251\n",
      "\n",
      "    accuracy                           0.94       902\n",
      "   macro avg       0.96      0.89      0.92       902\n",
      "weighted avg       0.94      0.94      0.94       902\n",
      "\n"
     ]
    },
    {
     "data": {
      "image/png": "[encoded data removed]",
      "text/plain": [
       "<Figure size 640x480 with 2 Axes>"
      ]
     },
     "metadata": {},
     "output_type": "display_data"
    }
   ],
   "source": [
    "# -----------------------------\n",
    "# 5. Train Random Forest on full train set\n",
    "# -----------------------------\n",
    "rf = RandomForestClassifier(\n",
    "    n_estimators=200,\n",
    "    random_state=42,\n",
    "    class_weight=\"balanced\"\n",
    ")\n",
    "rf.fit(X, y)  # X, y = your training data\n",
    "y_test_pred_rf = rf.predict(X_test)\n",
    "\n",
    "print(\"\\n=== Random Forest Test Report ===\")\n",
    "print(classification_report(y_test, y_test_pred_rf))\n",
    "\n",
    "cm_rf = confusion_matrix(y_test, y_test_pred_rf)\n",
    "sns.heatmap(cm_rf, annot=True, fmt=\"d\", cmap=\"Blues\")\n",
    "plt.title(\"Random Forest Confusion Matrix\")\n",
    "plt.show()\n",
    "\n",
    "# -----------------------------\n",
    "# 6. Train XGBoost on full train set\n",
    "# -----------------------------\n",
    "xgb = XGBClassifier(\n",
    "    n_estimators=300,\n",
    "    learning_rate=0.1,\n",
    "    max_depth=5,\n",
    "    random_state=42,\n",
    "    use_label_encoder=False,\n",
    "    eval_metric=\"logloss\"\n",
    ")\n",
    "xgb.fit(X, y)\n",
    "y_test_pred_xgb = xgb.predict(X_test)\n",
    "\n",
    "print(\"\\n=== XGBoost Test Report ===\")\n",
    "print(classification_report(y_test, y_test_pred_xgb))\n",
    "\n",
    "cm_xgb = confusion_matrix(y_test, y_test_pred_xgb)\n",
    "sns.heatmap(cm_xgb, annot=True, fmt=\"d\", cmap=\"Greens\")\n",
    "plt.title(\"XGBoost Confusion Matrix\")\n",
    "plt.show()\n"
   ]
  },
  {
   "cell_type": "markdown",
   "id": "f9b69976",
   "metadata": {
    "papermill": {
     "duration": 0.008707,
     "end_time": "2025-09-04T17:15:31.184286",
     "exception": false,
     "start_time": "2025-09-04T17:15:31.175579",
     "status": "completed"
    },
    "tags": []
   },
   "source": [
    "## Model choice\n",
    "We chose XGBoost because, in our comparison on held-out bearings, it achieved higher overall accuracy and better detection of degraded bearings (higher recall for class 1) while maintaining perfect recall on healthy bearings. This makes it more reliable for predictive maintenance, where catching early signs of degradation is critical."
   ]
  },
  {
   "cell_type": "markdown",
   "id": "6e4fcc81",
   "metadata": {
    "papermill": {
     "duration": 0.008031,
     "end_time": "2025-09-04T17:15:31.201560",
     "exception": false,
     "start_time": "2025-09-04T17:15:31.193529",
     "status": "completed"
    },
    "tags": []
   },
   "source": [
    "## Model training on 100%"
   ]
  },
  {
   "cell_type": "code",
   "execution_count": 10,
   "id": "15260e13",
   "metadata": {
    "execution": {
     "iopub.execute_input": "2025-09-04T17:15:31.221580Z",
     "iopub.status.busy": "2025-09-04T17:15:31.221224Z",
     "iopub.status.idle": "2025-09-04T17:15:31.228454Z",
     "shell.execute_reply": "2025-09-04T17:15:31.227220Z"
    },
    "papermill": {
     "duration": 0.019122,
     "end_time": "2025-09-04T17:15:31.230822",
     "exception": false,
     "start_time": "2025-09-04T17:15:31.211700",
     "status": "completed"
    },
    "tags": []
   },
   "outputs": [],
   "source": [
    "X = df.drop(columns=[\"bearing_name\", \"health_state\"])  # features only\n",
    "y = df[\"health_state\"]                              # target variable"
   ]
  },
  {
   "cell_type": "code",
   "execution_count": 11,
   "id": "5b4c04d1",
   "metadata": {
    "execution": {
     "iopub.execute_input": "2025-09-04T17:15:31.249254Z",
     "iopub.status.busy": "2025-09-04T17:15:31.248928Z",
     "iopub.status.idle": "2025-09-04T17:15:31.261221Z",
     "shell.execute_reply": "2025-09-04T17:15:31.260279Z"
    },
    "papermill": {
     "duration": 0.023286,
     "end_time": "2025-09-04T17:15:31.263138",
     "exception": false,
     "start_time": "2025-09-04T17:15:31.239852",
     "status": "completed"
    },
    "tags": []
   },
   "outputs": [
    {
     "data": {
      "text/html": [
       "<div>\n",
       "<style scoped>\n",
       "    .dataframe tbody tr th:only-of-type {\n",
       "        vertical-align: middle;\n",
       "    }\n",
       "\n",
       "    .dataframe tbody tr th {\n",
       "        vertical-align: top;\n",
       "    }\n",
       "\n",
       "    .dataframe thead th {\n",
       "        text-align: right;\n",
       "    }\n",
       "</style>\n",
       "<table border=\"1\" class=\"dataframe\">\n",
       "  <thead>\n",
       "    <tr style=\"text-align: right;\">\n",
       "      <th></th>\n",
       "      <th>rms</th>\n",
       "      <th>kurtosis</th>\n",
       "      <th>crest_factor</th>\n",
       "      <th>spectral_entropy</th>\n",
       "      <th>dominant_frequency</th>\n",
       "    </tr>\n",
       "  </thead>\n",
       "  <tbody>\n",
       "    <tr>\n",
       "      <th>0</th>\n",
       "      <td>-1.404872</td>\n",
       "      <td>-0.294089</td>\n",
       "      <td>-0.749561</td>\n",
       "      <td>-3.045741</td>\n",
       "      <td>-0.08463</td>\n",
       "    </tr>\n",
       "    <tr>\n",
       "      <th>1</th>\n",
       "      <td>-1.387942</td>\n",
       "      <td>-0.277844</td>\n",
       "      <td>-0.143750</td>\n",
       "      <td>-4.067255</td>\n",
       "      <td>-0.08463</td>\n",
       "    </tr>\n",
       "    <tr>\n",
       "      <th>2</th>\n",
       "      <td>-1.473794</td>\n",
       "      <td>-0.279811</td>\n",
       "      <td>-0.548704</td>\n",
       "      <td>-2.015796</td>\n",
       "      <td>-0.08463</td>\n",
       "    </tr>\n",
       "    <tr>\n",
       "      <th>3</th>\n",
       "      <td>-1.477916</td>\n",
       "      <td>-0.296020</td>\n",
       "      <td>-0.260474</td>\n",
       "      <td>-3.425314</td>\n",
       "      <td>-0.08463</td>\n",
       "    </tr>\n",
       "    <tr>\n",
       "      <th>4</th>\n",
       "      <td>-1.413450</td>\n",
       "      <td>-0.285762</td>\n",
       "      <td>-0.420460</td>\n",
       "      <td>-3.459451</td>\n",
       "      <td>-0.08463</td>\n",
       "    </tr>\n",
       "  </tbody>\n",
       "</table>\n",
       "</div>"
      ],
      "text/plain": [
       "        rms  kurtosis  crest_factor  spectral_entropy  dominant_frequency\n",
       "0 -1.404872 -0.294089     -0.749561         -3.045741            -0.08463\n",
       "1 -1.387942 -0.277844     -0.143750         -4.067255            -0.08463\n",
       "2 -1.473794 -0.279811     -0.548704         -2.015796            -0.08463\n",
       "3 -1.477916 -0.296020     -0.260474         -3.425314            -0.08463\n",
       "4 -1.413450 -0.285762     -0.420460         -3.459451            -0.08463"
      ]
     },
     "execution_count": 11,
     "metadata": {},
     "output_type": "execute_result"
    }
   ],
   "source": [
    "X.head()"
   ]
  },
  {
   "cell_type": "code",
   "execution_count": 12,
   "id": "298b908b",
   "metadata": {
    "execution": {
     "iopub.execute_input": "2025-09-04T17:15:31.283181Z",
     "iopub.status.busy": "2025-09-04T17:15:31.282802Z",
     "iopub.status.idle": "2025-09-04T17:15:31.293150Z",
     "shell.execute_reply": "2025-09-04T17:15:31.291583Z"
    },
    "papermill": {
     "duration": 0.025417,
     "end_time": "2025-09-04T17:15:31.297212",
     "exception": false,
     "start_time": "2025-09-04T17:15:31.271795",
     "status": "completed"
    },
    "tags": []
   },
   "outputs": [
    {
     "data": {
      "text/plain": [
       "0    0.0\n",
       "1    0.0\n",
       "2    0.0\n",
       "3    0.0\n",
       "4    0.0\n",
       "Name: health_state, dtype: float64"
      ]
     },
     "execution_count": 12,
     "metadata": {},
     "output_type": "execute_result"
    }
   ],
   "source": [
    "y.head()"
   ]
  },
  {
   "cell_type": "code",
   "execution_count": 13,
   "id": "9994d53f",
   "metadata": {
    "execution": {
     "iopub.execute_input": "2025-09-04T17:15:31.317521Z",
     "iopub.status.busy": "2025-09-04T17:15:31.317187Z",
     "iopub.status.idle": "2025-09-04T17:15:31.838133Z",
     "shell.execute_reply": "2025-09-04T17:15:31.837206Z"
    },
    "papermill": {
     "duration": 0.53679,
     "end_time": "2025-09-04T17:15:31.843184",
     "exception": false,
     "start_time": "2025-09-04T17:15:31.306394",
     "status": "completed"
    },
    "tags": []
   },
   "outputs": [
    {
     "name": "stdout",
     "output_type": "stream",
     "text": [
      "XGBoost model trained on 100% of data.\n"
     ]
    }
   ],
   "source": [
    "# -----------------------------\n",
    "# 3. Train final XGBoost model\n",
    "# -----------------------------\n",
    "xgb = XGBClassifier(\n",
    "    n_estimators=300,\n",
    "    learning_rate=0.1,\n",
    "    max_depth=5,\n",
    "    random_state=42,\n",
    "    use_label_encoder=False,\n",
    "    eval_metric=\"logloss\"\n",
    ")\n",
    "xgb.fit(X, y)\n",
    "\n",
    "print(\"XGBoost model trained on 100% of data.\")"
   ]
  },
  {
   "cell_type": "markdown",
   "id": "a7f2c3a4",
   "metadata": {
    "papermill": {
     "duration": 0.008589,
     "end_time": "2025-09-04T17:15:31.866003",
     "exception": false,
     "start_time": "2025-09-04T17:15:31.857414",
     "status": "completed"
    },
    "tags": []
   },
   "source": [
    "## Model training on three features only RMS, Kurtosis, CrestFactor\n",
    "Matching the CWRU Bearing Dataset"
   ]
  },
  {
   "cell_type": "code",
   "execution_count": 14,
   "id": "57feae05",
   "metadata": {
    "execution": {
     "iopub.execute_input": "2025-09-04T17:15:31.890088Z",
     "iopub.status.busy": "2025-09-04T17:15:31.889691Z",
     "iopub.status.idle": "2025-09-04T17:15:31.897492Z",
     "shell.execute_reply": "2025-09-04T17:15:31.895975Z"
    },
    "papermill": {
     "duration": 0.023987,
     "end_time": "2025-09-04T17:15:31.899515",
     "exception": false,
     "start_time": "2025-09-04T17:15:31.875528",
     "status": "completed"
    },
    "tags": []
   },
   "outputs": [],
   "source": [
    "X = df.drop(columns=[\"bearing_name\", \"health_state\", \"spectral_entropy\", \"dominant_frequency\"])  # features only\n",
    "y = df[\"health_state\"]                              # target variable"
   ]
  },
  {
   "cell_type": "code",
   "execution_count": 15,
   "id": "e2379386",
   "metadata": {
    "execution": {
     "iopub.execute_input": "2025-09-04T17:15:31.920174Z",
     "iopub.status.busy": "2025-09-04T17:15:31.919840Z",
     "iopub.status.idle": "2025-09-04T17:15:32.391425Z",
     "shell.execute_reply": "2025-09-04T17:15:32.390266Z"
    },
    "papermill": {
     "duration": 0.483947,
     "end_time": "2025-09-04T17:15:32.393246",
     "exception": false,
     "start_time": "2025-09-04T17:15:31.909299",
     "status": "completed"
    },
    "tags": []
   },
   "outputs": [
    {
     "name": "stdout",
     "output_type": "stream",
     "text": [
      "XGBoost model trained on 100% of 3 features data.\n"
     ]
    }
   ],
   "source": [
    "# -----------------------------\n",
    "# 3. Train final XGBoost model\n",
    "# -----------------------------\n",
    "xgb_3_features = XGBClassifier(\n",
    "    n_estimators=300,\n",
    "    learning_rate=0.1,\n",
    "    max_depth=5,\n",
    "    random_state=42,\n",
    "    use_label_encoder=False,\n",
    "    eval_metric=\"logloss\"\n",
    ")\n",
    "xgb_3_features.fit(X, y)\n",
    "\n",
    "print(\"XGBoost model trained on 100% of 3 features data.\")"
   ]
  },
  {
   "cell_type": "markdown",
   "id": "4d700112",
   "metadata": {
    "papermill": {
     "duration": 0.009035,
     "end_time": "2025-09-04T17:15:32.412651",
     "exception": false,
     "start_time": "2025-09-04T17:15:32.403616",
     "status": "completed"
    },
    "tags": []
   },
   "source": [
    "## Model evaluation"
   ]
  },
  {
   "cell_type": "markdown",
   "id": "590ef53c",
   "metadata": {
    "papermill": {
     "duration": 0.008167,
     "end_time": "2025-09-04T17:15:32.429328",
     "exception": false,
     "start_time": "2025-09-04T17:15:32.421161",
     "status": "completed"
    },
    "tags": []
   },
   "source": [
    "Using the CWRU Bearing Dataset. "
   ]
  },
  {
   "cell_type": "code",
   "execution_count": 16,
   "id": "6490149a",
   "metadata": {
    "execution": {
     "iopub.execute_input": "2025-09-04T17:15:32.450826Z",
     "iopub.status.busy": "2025-09-04T17:15:32.450464Z",
     "iopub.status.idle": "2025-09-04T17:15:32.508470Z",
     "shell.execute_reply": "2025-09-04T17:15:32.507135Z"
    },
    "papermill": {
     "duration": 0.072065,
     "end_time": "2025-09-04T17:15:32.510276",
     "exception": false,
     "start_time": "2025-09-04T17:15:32.438211",
     "status": "completed"
    },
    "tags": []
   },
   "outputs": [],
   "source": [
    "df_cwru = pd.read_csv(\"/kaggle/input/cwru-bearing-datasets/feature_time_48k_2048_load_1.csv\")"
   ]
  },
  {
   "cell_type": "code",
   "execution_count": 17,
   "id": "3930a14d",
   "metadata": {
    "execution": {
     "iopub.execute_input": "2025-09-04T17:15:32.529972Z",
     "iopub.status.busy": "2025-09-04T17:15:32.529611Z",
     "iopub.status.idle": "2025-09-04T17:15:32.549568Z",
     "shell.execute_reply": "2025-09-04T17:15:32.547775Z"
    },
    "papermill": {
     "duration": 0.032762,
     "end_time": "2025-09-04T17:15:32.552041",
     "exception": false,
     "start_time": "2025-09-04T17:15:32.519279",
     "status": "completed"
    },
    "tags": []
   },
   "outputs": [
    {
     "data": {
      "text/html": [
       "<div>\n",
       "<style scoped>\n",
       "    .dataframe tbody tr th:only-of-type {\n",
       "        vertical-align: middle;\n",
       "    }\n",
       "\n",
       "    .dataframe tbody tr th {\n",
       "        vertical-align: top;\n",
       "    }\n",
       "\n",
       "    .dataframe thead th {\n",
       "        text-align: right;\n",
       "    }\n",
       "</style>\n",
       "<table border=\"1\" class=\"dataframe\">\n",
       "  <thead>\n",
       "    <tr style=\"text-align: right;\">\n",
       "      <th></th>\n",
       "      <th>max</th>\n",
       "      <th>min</th>\n",
       "      <th>mean</th>\n",
       "      <th>sd</th>\n",
       "      <th>rms</th>\n",
       "      <th>skewness</th>\n",
       "      <th>kurtosis</th>\n",
       "      <th>crest</th>\n",
       "      <th>form</th>\n",
       "      <th>fault</th>\n",
       "    </tr>\n",
       "  </thead>\n",
       "  <tbody>\n",
       "    <tr>\n",
       "      <th>0</th>\n",
       "      <td>0.35986</td>\n",
       "      <td>-0.41890</td>\n",
       "      <td>0.017840</td>\n",
       "      <td>0.122746</td>\n",
       "      <td>0.124006</td>\n",
       "      <td>-0.118571</td>\n",
       "      <td>-0.042219</td>\n",
       "      <td>2.901946</td>\n",
       "      <td>6.950855</td>\n",
       "      <td>Ball_007_1</td>\n",
       "    </tr>\n",
       "    <tr>\n",
       "      <th>1</th>\n",
       "      <td>0.46772</td>\n",
       "      <td>-0.36111</td>\n",
       "      <td>0.022255</td>\n",
       "      <td>0.132488</td>\n",
       "      <td>0.134312</td>\n",
       "      <td>0.174699</td>\n",
       "      <td>-0.081548</td>\n",
       "      <td>3.482334</td>\n",
       "      <td>6.035202</td>\n",
       "      <td>Ball_007_1</td>\n",
       "    </tr>\n",
       "    <tr>\n",
       "      <th>2</th>\n",
       "      <td>0.46855</td>\n",
       "      <td>-0.43809</td>\n",
       "      <td>0.020470</td>\n",
       "      <td>0.149651</td>\n",
       "      <td>0.151008</td>\n",
       "      <td>0.040339</td>\n",
       "      <td>-0.274069</td>\n",
       "      <td>3.102819</td>\n",
       "      <td>7.376926</td>\n",
       "      <td>Ball_007_1</td>\n",
       "    </tr>\n",
       "    <tr>\n",
       "      <th>3</th>\n",
       "      <td>0.58475</td>\n",
       "      <td>-0.54303</td>\n",
       "      <td>0.020960</td>\n",
       "      <td>0.157067</td>\n",
       "      <td>0.158422</td>\n",
       "      <td>-0.023266</td>\n",
       "      <td>0.134692</td>\n",
       "      <td>3.691097</td>\n",
       "      <td>7.558387</td>\n",
       "      <td>Ball_007_1</td>\n",
       "    </tr>\n",
       "    <tr>\n",
       "      <th>4</th>\n",
       "      <td>0.44685</td>\n",
       "      <td>-0.57891</td>\n",
       "      <td>0.022167</td>\n",
       "      <td>0.138189</td>\n",
       "      <td>0.139922</td>\n",
       "      <td>-0.081534</td>\n",
       "      <td>0.402783</td>\n",
       "      <td>3.193561</td>\n",
       "      <td>6.312085</td>\n",
       "      <td>Ball_007_1</td>\n",
       "    </tr>\n",
       "  </tbody>\n",
       "</table>\n",
       "</div>"
      ],
      "text/plain": [
       "       max      min      mean        sd       rms  skewness  kurtosis  \\\n",
       "0  0.35986 -0.41890  0.017840  0.122746  0.124006 -0.118571 -0.042219   \n",
       "1  0.46772 -0.36111  0.022255  0.132488  0.134312  0.174699 -0.081548   \n",
       "2  0.46855 -0.43809  0.020470  0.149651  0.151008  0.040339 -0.274069   \n",
       "3  0.58475 -0.54303  0.020960  0.157067  0.158422 -0.023266  0.134692   \n",
       "4  0.44685 -0.57891  0.022167  0.138189  0.139922 -0.081534  0.402783   \n",
       "\n",
       "      crest      form       fault  \n",
       "0  2.901946  6.950855  Ball_007_1  \n",
       "1  3.482334  6.035202  Ball_007_1  \n",
       "2  3.102819  7.376926  Ball_007_1  \n",
       "3  3.691097  7.558387  Ball_007_1  \n",
       "4  3.193561  6.312085  Ball_007_1  "
      ]
     },
     "execution_count": 17,
     "metadata": {},
     "output_type": "execute_result"
    }
   ],
   "source": [
    "df_cwru.head()"
   ]
  },
  {
   "cell_type": "code",
   "execution_count": 18,
   "id": "74b17ede",
   "metadata": {
    "execution": {
     "iopub.execute_input": "2025-09-04T17:15:32.654767Z",
     "iopub.status.busy": "2025-09-04T17:15:32.653491Z",
     "iopub.status.idle": "2025-09-04T17:15:32.660720Z",
     "shell.execute_reply": "2025-09-04T17:15:32.659278Z"
    },
    "papermill": {
     "duration": 0.023638,
     "end_time": "2025-09-04T17:15:32.662833",
     "exception": false,
     "start_time": "2025-09-04T17:15:32.639195",
     "status": "completed"
    },
    "tags": []
   },
   "outputs": [],
   "source": [
    "df_cwru = df_cwru.drop(columns=[\"max\", \"min\", \"mean\", \"sd\", \"skewness\", \"form\"])  # features only"
   ]
  },
  {
   "cell_type": "code",
   "execution_count": 19,
   "id": "ebb256b0",
   "metadata": {
    "execution": {
     "iopub.execute_input": "2025-09-04T17:15:32.683611Z",
     "iopub.status.busy": "2025-09-04T17:15:32.683251Z",
     "iopub.status.idle": "2025-09-04T17:15:32.697505Z",
     "shell.execute_reply": "2025-09-04T17:15:32.695848Z"
    },
    "papermill": {
     "duration": 0.027963,
     "end_time": "2025-09-04T17:15:32.700157",
     "exception": false,
     "start_time": "2025-09-04T17:15:32.672194",
     "status": "completed"
    },
    "tags": []
   },
   "outputs": [
    {
     "data": {
      "text/html": [
       "<div>\n",
       "<style scoped>\n",
       "    .dataframe tbody tr th:only-of-type {\n",
       "        vertical-align: middle;\n",
       "    }\n",
       "\n",
       "    .dataframe tbody tr th {\n",
       "        vertical-align: top;\n",
       "    }\n",
       "\n",
       "    .dataframe thead th {\n",
       "        text-align: right;\n",
       "    }\n",
       "</style>\n",
       "<table border=\"1\" class=\"dataframe\">\n",
       "  <thead>\n",
       "    <tr style=\"text-align: right;\">\n",
       "      <th></th>\n",
       "      <th>rms</th>\n",
       "      <th>kurtosis</th>\n",
       "      <th>crest</th>\n",
       "      <th>fault</th>\n",
       "    </tr>\n",
       "  </thead>\n",
       "  <tbody>\n",
       "    <tr>\n",
       "      <th>0</th>\n",
       "      <td>0.124006</td>\n",
       "      <td>-0.042219</td>\n",
       "      <td>2.901946</td>\n",
       "      <td>Ball_007_1</td>\n",
       "    </tr>\n",
       "    <tr>\n",
       "      <th>1</th>\n",
       "      <td>0.134312</td>\n",
       "      <td>-0.081548</td>\n",
       "      <td>3.482334</td>\n",
       "      <td>Ball_007_1</td>\n",
       "    </tr>\n",
       "    <tr>\n",
       "      <th>2</th>\n",
       "      <td>0.151008</td>\n",
       "      <td>-0.274069</td>\n",
       "      <td>3.102819</td>\n",
       "      <td>Ball_007_1</td>\n",
       "    </tr>\n",
       "    <tr>\n",
       "      <th>3</th>\n",
       "      <td>0.158422</td>\n",
       "      <td>0.134692</td>\n",
       "      <td>3.691097</td>\n",
       "      <td>Ball_007_1</td>\n",
       "    </tr>\n",
       "    <tr>\n",
       "      <th>4</th>\n",
       "      <td>0.139922</td>\n",
       "      <td>0.402783</td>\n",
       "      <td>3.193561</td>\n",
       "      <td>Ball_007_1</td>\n",
       "    </tr>\n",
       "  </tbody>\n",
       "</table>\n",
       "</div>"
      ],
      "text/plain": [
       "        rms  kurtosis     crest       fault\n",
       "0  0.124006 -0.042219  2.901946  Ball_007_1\n",
       "1  0.134312 -0.081548  3.482334  Ball_007_1\n",
       "2  0.151008 -0.274069  3.102819  Ball_007_1\n",
       "3  0.158422  0.134692  3.691097  Ball_007_1\n",
       "4  0.139922  0.402783  3.193561  Ball_007_1"
      ]
     },
     "execution_count": 19,
     "metadata": {},
     "output_type": "execute_result"
    }
   ],
   "source": [
    "df_cwru.head()"
   ]
  },
  {
   "cell_type": "code",
   "execution_count": 20,
   "id": "f885e7bf",
   "metadata": {
    "execution": {
     "iopub.execute_input": "2025-09-04T17:15:32.721110Z",
     "iopub.status.busy": "2025-09-04T17:15:32.720732Z",
     "iopub.status.idle": "2025-09-04T17:15:32.731239Z",
     "shell.execute_reply": "2025-09-04T17:15:32.729926Z"
    },
    "papermill": {
     "duration": 0.022886,
     "end_time": "2025-09-04T17:15:32.733413",
     "exception": false,
     "start_time": "2025-09-04T17:15:32.710527",
     "status": "completed"
    },
    "tags": []
   },
   "outputs": [
    {
     "name": "stdout",
     "output_type": "stream",
     "text": [
      "['Ball_007_1' 'Ball_014_1' 'Ball_021_1' 'IR_007_1' 'IR_014_1' 'IR_021_1'\n",
      " 'OR_007_6_1' 'OR_014_6_1' 'OR_021_6_1' 'Normal_1']\n"
     ]
    }
   ],
   "source": [
    "print(df_cwru[\"fault\"].unique())\n"
   ]
  },
  {
   "cell_type": "code",
   "execution_count": 21,
   "id": "21d4a326",
   "metadata": {
    "execution": {
     "iopub.execute_input": "2025-09-04T17:15:32.753103Z",
     "iopub.status.busy": "2025-09-04T17:15:32.752784Z",
     "iopub.status.idle": "2025-09-04T17:15:32.760000Z",
     "shell.execute_reply": "2025-09-04T17:15:32.758932Z"
    },
    "papermill": {
     "duration": 0.019171,
     "end_time": "2025-09-04T17:15:32.761703",
     "exception": false,
     "start_time": "2025-09-04T17:15:32.742532",
     "status": "completed"
    },
    "tags": []
   },
   "outputs": [],
   "source": [
    "def map_fault(label):\n",
    "    if label == \"Normal_1\":\n",
    "        return 0\n",
    "    else:\n",
    "        return 1\n",
    "\n",
    "df_cwru[\"label\"] = df_cwru[\"fault\"].apply(map_fault)\n"
   ]
  },
  {
   "cell_type": "code",
   "execution_count": 22,
   "id": "81779af8",
   "metadata": {
    "execution": {
     "iopub.execute_input": "2025-09-04T17:15:32.781220Z",
     "iopub.status.busy": "2025-09-04T17:15:32.780899Z",
     "iopub.status.idle": "2025-09-04T17:15:32.791762Z",
     "shell.execute_reply": "2025-09-04T17:15:32.790672Z"
    },
    "papermill": {
     "duration": 0.022569,
     "end_time": "2025-09-04T17:15:32.793392",
     "exception": false,
     "start_time": "2025-09-04T17:15:32.770823",
     "status": "completed"
    },
    "tags": []
   },
   "outputs": [
    {
     "data": {
      "text/html": [
       "<div>\n",
       "<style scoped>\n",
       "    .dataframe tbody tr th:only-of-type {\n",
       "        vertical-align: middle;\n",
       "    }\n",
       "\n",
       "    .dataframe tbody tr th {\n",
       "        vertical-align: top;\n",
       "    }\n",
       "\n",
       "    .dataframe thead th {\n",
       "        text-align: right;\n",
       "    }\n",
       "</style>\n",
       "<table border=\"1\" class=\"dataframe\">\n",
       "  <thead>\n",
       "    <tr style=\"text-align: right;\">\n",
       "      <th></th>\n",
       "      <th>rms</th>\n",
       "      <th>kurtosis</th>\n",
       "      <th>crest</th>\n",
       "      <th>fault</th>\n",
       "      <th>label</th>\n",
       "    </tr>\n",
       "  </thead>\n",
       "  <tbody>\n",
       "    <tr>\n",
       "      <th>0</th>\n",
       "      <td>0.124006</td>\n",
       "      <td>-0.042219</td>\n",
       "      <td>2.901946</td>\n",
       "      <td>Ball_007_1</td>\n",
       "      <td>1</td>\n",
       "    </tr>\n",
       "    <tr>\n",
       "      <th>1</th>\n",
       "      <td>0.134312</td>\n",
       "      <td>-0.081548</td>\n",
       "      <td>3.482334</td>\n",
       "      <td>Ball_007_1</td>\n",
       "      <td>1</td>\n",
       "    </tr>\n",
       "    <tr>\n",
       "      <th>2</th>\n",
       "      <td>0.151008</td>\n",
       "      <td>-0.274069</td>\n",
       "      <td>3.102819</td>\n",
       "      <td>Ball_007_1</td>\n",
       "      <td>1</td>\n",
       "    </tr>\n",
       "    <tr>\n",
       "      <th>3</th>\n",
       "      <td>0.158422</td>\n",
       "      <td>0.134692</td>\n",
       "      <td>3.691097</td>\n",
       "      <td>Ball_007_1</td>\n",
       "      <td>1</td>\n",
       "    </tr>\n",
       "    <tr>\n",
       "      <th>4</th>\n",
       "      <td>0.139922</td>\n",
       "      <td>0.402783</td>\n",
       "      <td>3.193561</td>\n",
       "      <td>Ball_007_1</td>\n",
       "      <td>1</td>\n",
       "    </tr>\n",
       "  </tbody>\n",
       "</table>\n",
       "</div>"
      ],
      "text/plain": [
       "        rms  kurtosis     crest       fault  label\n",
       "0  0.124006 -0.042219  2.901946  Ball_007_1      1\n",
       "1  0.134312 -0.081548  3.482334  Ball_007_1      1\n",
       "2  0.151008 -0.274069  3.102819  Ball_007_1      1\n",
       "3  0.158422  0.134692  3.691097  Ball_007_1      1\n",
       "4  0.139922  0.402783  3.193561  Ball_007_1      1"
      ]
     },
     "execution_count": 22,
     "metadata": {},
     "output_type": "execute_result"
    }
   ],
   "source": [
    "df_cwru.head()"
   ]
  },
  {
   "cell_type": "code",
   "execution_count": 23,
   "id": "7724a074",
   "metadata": {
    "execution": {
     "iopub.execute_input": "2025-09-04T17:15:32.814509Z",
     "iopub.status.busy": "2025-09-04T17:15:32.814055Z",
     "iopub.status.idle": "2025-09-04T17:15:32.823955Z",
     "shell.execute_reply": "2025-09-04T17:15:32.822058Z"
    },
    "papermill": {
     "duration": 0.022832,
     "end_time": "2025-09-04T17:15:32.825945",
     "exception": false,
     "start_time": "2025-09-04T17:15:32.803113",
     "status": "completed"
    },
    "tags": []
   },
   "outputs": [
    {
     "name": "stdout",
     "output_type": "stream",
     "text": [
      "[1 0]\n"
     ]
    }
   ],
   "source": [
    "print(df_cwru[\"label\"].unique())\n"
   ]
  },
  {
   "cell_type": "code",
   "execution_count": 24,
   "id": "476e292c",
   "metadata": {
    "execution": {
     "iopub.execute_input": "2025-09-04T17:15:32.849059Z",
     "iopub.status.busy": "2025-09-04T17:15:32.848398Z",
     "iopub.status.idle": "2025-09-04T17:15:32.856393Z",
     "shell.execute_reply": "2025-09-04T17:15:32.855145Z"
    },
    "papermill": {
     "duration": 0.0226,
     "end_time": "2025-09-04T17:15:32.858424",
     "exception": false,
     "start_time": "2025-09-04T17:15:32.835824",
     "status": "completed"
    },
    "tags": []
   },
   "outputs": [],
   "source": [
    "df_cwru = df_cwru.drop(columns=[\"fault\"])  # features only"
   ]
  },
  {
   "cell_type": "code",
   "execution_count": 25,
   "id": "451cda2a",
   "metadata": {
    "execution": {
     "iopub.execute_input": "2025-09-04T17:15:32.878651Z",
     "iopub.status.busy": "2025-09-04T17:15:32.878334Z",
     "iopub.status.idle": "2025-09-04T17:15:32.896835Z",
     "shell.execute_reply": "2025-09-04T17:15:32.895263Z"
    },
    "papermill": {
     "duration": 0.031117,
     "end_time": "2025-09-04T17:15:32.899006",
     "exception": false,
     "start_time": "2025-09-04T17:15:32.867889",
     "status": "completed"
    },
    "tags": []
   },
   "outputs": [
    {
     "data": {
      "text/html": [
       "<div>\n",
       "<style scoped>\n",
       "    .dataframe tbody tr th:only-of-type {\n",
       "        vertical-align: middle;\n",
       "    }\n",
       "\n",
       "    .dataframe tbody tr th {\n",
       "        vertical-align: top;\n",
       "    }\n",
       "\n",
       "    .dataframe thead th {\n",
       "        text-align: right;\n",
       "    }\n",
       "</style>\n",
       "<table border=\"1\" class=\"dataframe\">\n",
       "  <thead>\n",
       "    <tr style=\"text-align: right;\">\n",
       "      <th></th>\n",
       "      <th>rms</th>\n",
       "      <th>kurtosis</th>\n",
       "      <th>crest</th>\n",
       "      <th>label</th>\n",
       "    </tr>\n",
       "  </thead>\n",
       "  <tbody>\n",
       "    <tr>\n",
       "      <th>0</th>\n",
       "      <td>0.124006</td>\n",
       "      <td>-0.042219</td>\n",
       "      <td>2.901946</td>\n",
       "      <td>1</td>\n",
       "    </tr>\n",
       "    <tr>\n",
       "      <th>1</th>\n",
       "      <td>0.134312</td>\n",
       "      <td>-0.081548</td>\n",
       "      <td>3.482334</td>\n",
       "      <td>1</td>\n",
       "    </tr>\n",
       "    <tr>\n",
       "      <th>2</th>\n",
       "      <td>0.151008</td>\n",
       "      <td>-0.274069</td>\n",
       "      <td>3.102819</td>\n",
       "      <td>1</td>\n",
       "    </tr>\n",
       "    <tr>\n",
       "      <th>3</th>\n",
       "      <td>0.158422</td>\n",
       "      <td>0.134692</td>\n",
       "      <td>3.691097</td>\n",
       "      <td>1</td>\n",
       "    </tr>\n",
       "    <tr>\n",
       "      <th>4</th>\n",
       "      <td>0.139922</td>\n",
       "      <td>0.402783</td>\n",
       "      <td>3.193561</td>\n",
       "      <td>1</td>\n",
       "    </tr>\n",
       "  </tbody>\n",
       "</table>\n",
       "</div>"
      ],
      "text/plain": [
       "        rms  kurtosis     crest  label\n",
       "0  0.124006 -0.042219  2.901946      1\n",
       "1  0.134312 -0.081548  3.482334      1\n",
       "2  0.151008 -0.274069  3.102819      1\n",
       "3  0.158422  0.134692  3.691097      1\n",
       "4  0.139922  0.402783  3.193561      1"
      ]
     },
     "execution_count": 25,
     "metadata": {},
     "output_type": "execute_result"
    }
   ],
   "source": [
    "df_cwru.head()"
   ]
  },
  {
   "cell_type": "code",
   "execution_count": 26,
   "id": "59fa2c4c",
   "metadata": {
    "execution": {
     "iopub.execute_input": "2025-09-04T17:15:32.922839Z",
     "iopub.status.busy": "2025-09-04T17:15:32.922428Z",
     "iopub.status.idle": "2025-09-04T17:15:32.929269Z",
     "shell.execute_reply": "2025-09-04T17:15:32.927379Z"
    },
    "papermill": {
     "duration": 0.021664,
     "end_time": "2025-09-04T17:15:32.931852",
     "exception": false,
     "start_time": "2025-09-04T17:15:32.910188",
     "status": "completed"
    },
    "tags": []
   },
   "outputs": [],
   "source": [
    "df_cwru.rename(columns={\n",
    "    \"crest\": \"crest_factor\"\n",
    "}, inplace=True)\n"
   ]
  },
  {
   "cell_type": "code",
   "execution_count": 27,
   "id": "a879980f",
   "metadata": {
    "execution": {
     "iopub.execute_input": "2025-09-04T17:15:32.958195Z",
     "iopub.status.busy": "2025-09-04T17:15:32.957620Z",
     "iopub.status.idle": "2025-09-04T17:15:32.988941Z",
     "shell.execute_reply": "2025-09-04T17:15:32.987016Z"
    },
    "papermill": {
     "duration": 0.04632,
     "end_time": "2025-09-04T17:15:32.990761",
     "exception": false,
     "start_time": "2025-09-04T17:15:32.944441",
     "status": "completed"
    },
    "tags": []
   },
   "outputs": [
    {
     "name": "stdout",
     "output_type": "stream",
     "text": [
      "Confusion Matrix:\n",
      " [[ 230    0]\n",
      " [1283  787]]\n",
      "              precision    recall  f1-score   support\n",
      "\n",
      "           0       0.15      1.00      0.26       230\n",
      "           1       1.00      0.38      0.55      2070\n",
      "\n",
      "    accuracy                           0.44      2300\n",
      "   macro avg       0.58      0.69      0.41      2300\n",
      "weighted avg       0.92      0.44      0.52      2300\n",
      "\n"
     ]
    }
   ],
   "source": [
    "X = df_cwru.drop(columns=[\"label\"])  # features only\n",
    "y = df_cwru[\"label\"]\n",
    "\n",
    "y_pred = xgb_3_features.predict(X)\n",
    "\n",
    "from sklearn.metrics import confusion_matrix, classification_report\n",
    "\n",
    "# Confusion matrix\n",
    "cm = confusion_matrix(y, y_pred)\n",
    "print(\"Confusion Matrix:\\n\", cm)\n",
    "\n",
    "# Classification report\n",
    "print(classification_report(y, y_pred))\n"
   ]
  },
  {
   "cell_type": "code",
   "execution_count": 28,
   "id": "bcc47df8",
   "metadata": {
    "execution": {
     "iopub.execute_input": "2025-09-04T17:15:33.012207Z",
     "iopub.status.busy": "2025-09-04T17:15:33.011884Z",
     "iopub.status.idle": "2025-09-04T17:15:33.254579Z",
     "shell.execute_reply": "2025-09-04T17:15:33.253034Z"
    },
    "papermill": {
     "duration": 0.25641,
     "end_time": "2025-09-04T17:15:33.256957",
     "exception": false,
     "start_time": "2025-09-04T17:15:33.000547",
     "status": "completed"
    },
    "tags": []
   },
   "outputs": [
    {
     "data": {
      "image/png": "[encoded data removed]",
      "text/plain": [
       "<Figure size 640x480 with 2 Axes>"
      ]
     },
     "metadata": {},
     "output_type": "display_data"
    }
   ],
   "source": [
    "import seaborn as sns\n",
    "import matplotlib.pyplot as plt\n",
    "\n",
    "sns.heatmap(cm, annot=True, fmt=\"d\", cmap=\"Blues\", xticklabels=[0,1], yticklabels=[0,1])\n",
    "plt.xlabel(\"Predicted\")\n",
    "plt.ylabel(\"Actual\")\n",
    "plt.title(\"XGBoost Confusion Matrix\")\n",
    "plt.show()\n"
   ]
  },
  {
   "cell_type": "code",
   "execution_count": 29,
   "id": "fb49e4bb",
   "metadata": {
    "execution": {
     "iopub.execute_input": "2025-09-04T17:15:33.281662Z",
     "iopub.status.busy": "2025-09-04T17:15:33.281290Z",
     "iopub.status.idle": "2025-09-04T17:15:34.325213Z",
     "shell.execute_reply": "2025-09-04T17:15:34.324085Z"
    },
    "papermill": {
     "duration": 1.059481,
     "end_time": "2025-09-04T17:15:34.327569",
     "exception": false,
     "start_time": "2025-09-04T17:15:33.268088",
     "status": "completed"
    },
    "tags": []
   },
   "outputs": [
    {
     "data": {
      "image/png": "[encoded data removed]",
      "text/plain": [
       "<Figure size 1200x1800 with 4 Axes>"
      ]
     },
     "metadata": {},
     "output_type": "display_data"
    }
   ],
   "source": [
    "import matplotlib.pyplot as plt\n",
    "import seaborn as sns\n",
    "import pandas as pd\n",
    "from sklearn.metrics import confusion_matrix, classification_report\n",
    "import numpy as np\n",
    "\n",
    "# Assuming you already have:\n",
    "# X (features), y (true labels), y_pred (model predictions)\n",
    "\n",
    "# Combine into one DataFrame for easy plotting\n",
    "df_viz = X.copy()\n",
    "df_viz[\"True_Label\"] = y\n",
    "df_viz[\"Pred_Label\"] = y_pred\n",
    "df_viz[\"Index\"] = np.arange(len(y))  # for time-series x-axis\n",
    "\n",
    "# Set style\n",
    "sns.set(style=\"whitegrid\")\n",
    "fig, axes = plt.subplots(3, 1, figsize=(12, 18))\n",
    "\n",
    "# -----------------------------\n",
    "# 1. Feature distributions\n",
    "# -----------------------------\n",
    "sns.boxplot(x=\"True_Label\", y=\"rms\", data=df_viz, ax=axes[0])\n",
    "axes[0].set_title(\"Feature Distribution by Class: RMS (0=Healthy, 1=Degraded)\")\n",
    "\n",
    "# -----------------------------\n",
    "# 2. Confusion matrix heatmap\n",
    "# -----------------------------\n",
    "cm = confusion_matrix(y, y_pred)\n",
    "sns.heatmap(cm, annot=True, fmt=\"d\", cmap=\"Blues\", xticklabels=[0,1], yticklabels=[0,1], ax=axes[1])\n",
    "axes[1].set_xlabel(\"Predicted\")\n",
    "axes[1].set_ylabel(\"Actual\")\n",
    "axes[1].set_title(\"Confusion Matrix: XGBoost Predictions\")\n",
    "\n",
    "# -----------------------------\n",
    "# 3. Time-series predictions\n",
    "# -----------------------------\n",
    "axes[2].plot(df_viz[\"Index\"], df_viz[\"True_Label\"], label=\"True Label\", color=\"green\", alpha=0.7)\n",
    "axes[2].plot(df_viz[\"Index\"], df_viz[\"Pred_Label\"], label=\"Predicted Label\", color=\"red\", alpha=0.5)\n",
    "axes[2].set_title(\"Time-Series: True vs Predicted Bearing Health\")\n",
    "axes[2].set_xlabel(\"Segment Index (chronological)\")\n",
    "axes[2].set_ylabel(\"Health State (0=Healthy,1=Degraded)\")\n",
    "axes[2].legend()\n",
    "\n",
    "plt.tight_layout()\n",
    "plt.show()\n"
   ]
  },
  {
   "cell_type": "code",
   "execution_count": 30,
   "id": "81d34059",
   "metadata": {
    "execution": {
     "iopub.execute_input": "2025-09-04T17:15:34.356443Z",
     "iopub.status.busy": "2025-09-04T17:15:34.355980Z",
     "iopub.status.idle": "2025-09-04T17:15:34.745017Z",
     "shell.execute_reply": "2025-09-04T17:15:34.743333Z"
    },
    "papermill": {
     "duration": 0.405706,
     "end_time": "2025-09-04T17:15:34.747044",
     "exception": false,
     "start_time": "2025-09-04T17:15:34.341338",
     "status": "completed"
    },
    "tags": []
   },
   "outputs": [
    {
     "data": {
      "image/png": "[encoded data removed]",
      "text/plain": [
       "<Figure size 1400x500 with 1 Axes>"
      ]
     },
     "metadata": {},
     "output_type": "display_data"
    }
   ],
   "source": [
    "import matplotlib.pyplot as plt\n",
    "import numpy as np\n",
    "\n",
    "# Chronological index\n",
    "idx = np.arange(len(y))\n",
    "\n",
    "plt.figure(figsize=(14,5))\n",
    "plt.plot(idx, y, label=\"True Label\", color=\"green\", alpha=0.7)\n",
    "plt.plot(idx, y_pred, label=\"Predicted Label\", color=\"red\", alpha=0.5)\n",
    "\n",
    "plt.fill_between(idx, 0, 1, where=(y != y_pred), color='yellow', alpha=0.3, label='Misclassified')\n",
    "\n",
    "plt.title(\"Bearing Health Prediction: True vs Predicted Labels\")\n",
    "plt.xlabel(\"Time / Segment Index\")\n",
    "plt.ylabel(\"Health State (0=Healthy, 1=Degraded)\")\n",
    "plt.legend(loc=\"upper right\")\n",
    "plt.ylim(-0.1, 1.1)\n",
    "plt.tight_layout()\n",
    "plt.show()\n"
   ]
  },
  {
   "cell_type": "code",
   "execution_count": 31,
   "id": "10a0afc4",
   "metadata": {
    "execution": {
     "iopub.execute_input": "2025-09-04T17:15:34.779860Z",
     "iopub.status.busy": "2025-09-04T17:15:34.779481Z",
     "iopub.status.idle": "2025-09-04T17:15:35.248434Z",
     "shell.execute_reply": "2025-09-04T17:15:35.246514Z"
    },
    "papermill": {
     "duration": 0.488638,
     "end_time": "2025-09-04T17:15:35.250884",
     "exception": false,
     "start_time": "2025-09-04T17:15:34.762246",
     "status": "completed"
    },
    "tags": []
   },
   "outputs": [
    {
     "data": {
      "image/png": "[encoded data removed]",
      "text/plain": [
       "<Figure size 1400x500 with 1 Axes>"
      ]
     },
     "metadata": {},
     "output_type": "display_data"
    }
   ],
   "source": [
    "import matplotlib.pyplot as plt\n",
    "import numpy as np\n",
    "\n",
    "# Chronological index\n",
    "idx = np.arange(len(y))\n",
    "\n",
    "plt.figure(figsize=(14,5))\n",
    "\n",
    "# True labels as line\n",
    "plt.plot(idx, y, label=\"True Label\", color=\"green\", linewidth=2)\n",
    "\n",
    "# Predicted labels as dots\n",
    "plt.scatter(idx, y_pred, label=\"Predicted Label\", color=\"red\", s=10, alpha=0.7)\n",
    "\n",
    "# Highlight misclassifications\n",
    "plt.fill_between(idx, 0, 1, where=(y != y_pred), color='yellow', alpha=0.3, label='Misclassified')\n",
    "\n",
    "# Titles and labels\n",
    "plt.title(\"Bearing Health Prediction: True vs Predicted Labels\", fontsize=16)\n",
    "plt.xlabel(\"Time / Segment Index\", fontsize=12)\n",
    "plt.ylabel(\"Health State (0=Healthy, 1=Degraded)\", fontsize=12)\n",
    "plt.ylim(-0.1, 1.1)\n",
    "plt.legend(loc=\"upper right\", fontsize=10)\n",
    "plt.grid(alpha=0.3)\n",
    "\n",
    "plt.tight_layout()\n",
    "plt.show()\n"
   ]
  },
  {
   "cell_type": "code",
   "execution_count": 32,
   "id": "67c398dd",
   "metadata": {
    "execution": {
     "iopub.execute_input": "2025-09-04T17:15:35.285698Z",
     "iopub.status.busy": "2025-09-04T17:15:35.285344Z",
     "iopub.status.idle": "2025-09-04T17:15:35.614222Z",
     "shell.execute_reply": "2025-09-04T17:15:35.611917Z"
    },
    "papermill": {
     "duration": 0.348205,
     "end_time": "2025-09-04T17:15:35.617083",
     "exception": false,
     "start_time": "2025-09-04T17:15:35.268878",
     "status": "completed"
    },
    "tags": []
   },
   "outputs": [
    {
     "data": {
      "image/png": "[encoded data removed]",
      "text/plain": [
       "<Figure size 1000x500 with 1 Axes>"
      ]
     },
     "metadata": {},
     "output_type": "display_data"
    }
   ],
   "source": [
    "import matplotlib.pyplot as plt\n",
    "from sklearn.metrics import classification_report, confusion_matrix\n",
    "import numpy as np\n",
    "\n",
    "# Compute metrics\n",
    "report = classification_report(y, y_pred, output_dict=True)\n",
    "accuracy = (y == y_pred).mean()\n",
    "precision_0 = report['0']['precision']\n",
    "recall_0 = report['0']['recall']\n",
    "precision_1 = report['1']['precision']\n",
    "recall_1 = report['1']['recall']\n",
    "\n",
    "# Bar chart for precision & recall\n",
    "metrics = [precision_0, recall_0, precision_1, recall_1, accuracy]\n",
    "labels = ['Prec Healthy','Recall Healthy','Prec Degraded','Recall Degraded','Overall Acc']\n",
    "\n",
    "plt.figure(figsize=(10,5))\n",
    "bars = plt.bar(labels, metrics, color=['green','green','red','red','blue'])\n",
    "plt.ylim(0,1)\n",
    "plt.title(\"Model Performance KPIs\", fontsize=14)\n",
    "plt.ylabel(\"Score\")\n",
    "plt.xticks(rotation=30)\n",
    "plt.grid(axis='y', alpha=0.3)\n",
    "\n",
    "# Add value labels on top\n",
    "for bar in bars:\n",
    "    plt.text(bar.get_x() + bar.get_width()/2, bar.get_height()+0.02, f\"{bar.get_height():.2f}\", \n",
    "             ha='center', fontsize=10)\n",
    "\n",
    "plt.tight_layout()\n",
    "plt.show()\n"
   ]
  },
  {
   "cell_type": "code",
   "execution_count": 33,
   "id": "8c1f51d4",
   "metadata": {
    "execution": {
     "iopub.execute_input": "2025-09-04T17:15:35.652597Z",
     "iopub.status.busy": "2025-09-04T17:15:35.652242Z",
     "iopub.status.idle": "2025-09-04T17:15:35.695518Z",
     "shell.execute_reply": "2025-09-04T17:15:35.693066Z"
    },
    "papermill": {
     "duration": 0.064356,
     "end_time": "2025-09-04T17:15:35.698543",
     "exception": false,
     "start_time": "2025-09-04T17:15:35.634187",
     "status": "completed"
    },
    "tags": []
   },
   "outputs": [
    {
     "name": "stdout",
     "output_type": "stream",
     "text": [
      "CSV for Tableau exported!\n"
     ]
    }
   ],
   "source": [
    "import pandas as pd\n",
    "import numpy as np\n",
    "\n",
    "# Assuming you already have:\n",
    "# X (features), y (true labels), y_pred (predictions)\n",
    "\n",
    "df_tableau = X.copy()\n",
    "df_tableau[\"True_Label\"] = y\n",
    "df_tableau[\"Predicted_Label\"] = y_pred\n",
    "df_tableau[\"Correct\"] = df_tableau[\"True_Label\"] == df_tableau[\"Predicted_Label\"]\n",
    "df_tableau[\"Segment_Index\"] = np.arange(len(y))\n",
    "\n",
    "# Export to CSV\n",
    "df_tableau.to_csv(\"bearing_predictions_tableau.csv\", index=False)\n",
    "print(\"CSV for Tableau exported!\")\n"
   ]
  },
  {
   "cell_type": "code",
   "execution_count": 34,
   "id": "0efec640",
   "metadata": {
    "execution": {
     "iopub.execute_input": "2025-09-04T17:15:35.737000Z",
     "iopub.status.busy": "2025-09-04T17:15:35.736490Z",
     "iopub.status.idle": "2025-09-04T17:15:35.763300Z",
     "shell.execute_reply": "2025-09-04T17:15:35.760825Z"
    },
    "papermill": {
     "duration": 0.049285,
     "end_time": "2025-09-04T17:15:35.765666",
     "exception": false,
     "start_time": "2025-09-04T17:15:35.716381",
     "status": "completed"
    },
    "tags": []
   },
   "outputs": [
    {
     "name": "stdout",
     "output_type": "stream",
     "text": [
      "✅ Exported model_results.json\n"
     ]
    }
   ],
   "source": [
    "import json\n",
    "import numpy as np\n",
    "import pandas as pd\n",
    "from sklearn.metrics import classification_report, confusion_matrix, accuracy_score\n",
    "\n",
    "# Assuming you already have:\n",
    "# y (true labels) and y_pred (model predictions)\n",
    "\n",
    "# Get classification report\n",
    "report = classification_report(y, y_pred, output_dict=True)\n",
    "\n",
    "# Accuracy\n",
    "accuracy = accuracy_score(y, y_pred)\n",
    "\n",
    "# Confusion Matrix\n",
    "cm = confusion_matrix(y, y_pred)\n",
    "cm_list = cm.tolist()  # for JSON export\n",
    "\n",
    "# Build summary dictionary\n",
    "summary = {\n",
    "    \"accuracy\": round(accuracy, 3),\n",
    "    \"precision\": round(report[\"weighted avg\"][\"precision\"], 3),\n",
    "    \"recall\": round(report[\"weighted avg\"][\"recall\"], 3),\n",
    "    \"f1_score\": round(report[\"weighted avg\"][\"f1-score\"], 3),\n",
    "    \"confusion_matrix\": cm_list,\n",
    "    \"labels\": list(set(y))  # in case you want to render axis labels\n",
    "}\n",
    "\n",
    "# Save to JSON\n",
    "with open(\"model_results.json\", \"w\") as f:\n",
    "    json.dump(summary, f, indent=4)\n",
    "\n",
    "print(\"✅ Exported model_results.json\")\n"
   ]
  }
 ],
 "metadata": {
  "kaggle": {
   "accelerator": "none",
   "dataSources": [
    {
     "datasetId": 1328389,
     "sourceId": 2211974,
     "sourceType": "datasetVersion"
    },
    {
     "datasetId": 8170998,
     "sourceId": 12913512,
     "sourceType": "datasetVersion"
    }
   ],
   "dockerImageVersionId": 31089,
   "isGpuEnabled": false,
   "isInternetEnabled": true,
   "language": "python",
   "sourceType": "notebook"
  },
  "kernelspec": {
   "display_name": "Python 3",
   "language": "python",
   "name": "python3"
  },
  "language_info": {
   "codemirror_mode": {
    "name": "ipython",
    "version": 3
   },
   "file_extension": ".py",
   "mimetype": "text/x-python",
   "name": "python",
   "nbconvert_exporter": "python",
   "pygments_lexer": "ipython3",
   "version": "3.11.13"
  },
  "papermill": {
   "default_parameters": {},
   "duration": 28.295567,
   "end_time": "2025-09-04T17:15:36.911556",
   "environment_variables": {},
   "exception": null,
   "input_path": "__notebook__.ipynb",
   "output_path": "__notebook__.ipynb",
   "parameters": {},
   "start_time": "2025-09-04T17:15:08.615989",
   "version": "2.6.0"
  }
 },
 "nbformat": 4,
 "nbformat_minor": 5
}
